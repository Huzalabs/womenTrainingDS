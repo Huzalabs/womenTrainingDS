{
 "cells": [
  {
   "cell_type": "markdown",
   "id": "c2556cb4",
   "metadata": {},
   "source": [
    "# 1. Lists in Python"
   ]
  },
  {
   "cell_type": "markdown",
   "id": "999d1d19",
   "metadata": {},
   "source": [
    "## Empty List"
   ]
  },
  {
   "cell_type": "code",
   "execution_count": 7,
   "id": "e4e5ee89",
   "metadata": {},
   "outputs": [
    {
     "name": "stdout",
     "output_type": "stream",
     "text": [
      "Two standard ways to create an empty list:\n",
      "<class 'list'> 1 [2]\n",
      "<class 'list'> 1 [2]\n",
      "True\n"
     ]
    }
   ],
   "source": [
    "print(\"Two standard ways to create an empty list:\")\n",
    "a = [2]\n",
    "b = list([2])\n",
    "\n",
    "print(type(a), len(a), a)\n",
    "print(type(b), len(b), b)\n",
    "print(a == b)"
   ]
  },
  {
   "cell_type": "code",
   "execution_count": 3,
   "id": "c8b8e05f-dab4-44cf-877d-5e05a7bfaec0",
   "metadata": {},
   "outputs": [
    {
     "name": "stdout",
     "output_type": "stream",
     "text": [
      "2\n"
     ]
    }
   ],
   "source": [
    "a = [1,4]\n",
    "print(len(a))\n"
   ]
  },
  {
   "cell_type": "code",
   "execution_count": 11,
   "id": "81e86714-b324-469b-9130-a01ffe35dce4",
   "metadata": {},
   "outputs": [
    {
     "data": {
      "text/plain": [
       "False"
      ]
     },
     "execution_count": 11,
     "metadata": {},
     "output_type": "execute_result"
    }
   ],
   "source": [
    "a = [1,4,2]\n",
    "b = [1,2,4]\n",
    "comparing = [True, False, False]\n",
    "a == b"
   ]
  },
  {
   "cell_type": "markdown",
   "id": "c6c199b2",
   "metadata": {},
   "source": [
    "## List with one element"
   ]
  },
  {
   "cell_type": "code",
   "execution_count": 12,
   "id": "9db5a1cc",
   "metadata": {},
   "outputs": [
    {
     "name": "stdout",
     "output_type": "stream",
     "text": [
      "<class 'list'> 1 ['hello']\n",
      "<class 'list'> 1 [42]\n",
      "False\n"
     ]
    }
   ],
   "source": [
    "a = [\"hello\"]\n",
    "b = [42]\n",
    "\n",
    "print(type(a), len(a), a)\n",
    "print(type(b), len(b), b)\n",
    "print(a == b)"
   ]
  },
  {
   "cell_type": "code",
   "execution_count": null,
   "id": "1068fe6c-41cd-4137-a36a-e66ad73c0a72",
   "metadata": {},
   "outputs": [],
   "source": []
  },
  {
   "cell_type": "markdown",
   "id": "42828fb1",
   "metadata": {},
   "source": [
    "## List with multiple elements"
   ]
  },
  {
   "cell_type": "code",
   "execution_count": 18,
   "id": "fb7a1cfa",
   "metadata": {},
   "outputs": [
    {
     "name": "stdout",
     "output_type": "stream",
     "text": [
      "<class 'list'> 4 [2, 3, 5, 7]\n",
      "<class 'list'> 5 [0, 1, 2, 3, 4]\n",
      "<class 'list'> 3 ['mixed types', True, 42]\n"
     ]
    }
   ],
   "source": [
    "a = [2, 3, 5, 7]\n",
    "b = list(range(5))\n",
    "c = [\"mixed types\", True, 42]\n",
    "\n",
    "print(type(a), len(a), a)\n",
    "print(type(b), len(b), b)\n",
    "print(type(c), len(c), c)"
   ]
  },
  {
   "cell_type": "code",
   "execution_count": 16,
   "id": "83a9dfa2-ebab-49d6-a81d-7555adb0fd9c",
   "metadata": {},
   "outputs": [
    {
     "name": "stdout",
     "output_type": "stream",
     "text": [
      "[0, 1, 2, 3, 4, 5, 6, 7, 8, 9]\n"
     ]
    }
   ],
   "source": [
    "b = list(range(0, 10))\n",
    "print(b)"
   ]
  },
  {
   "cell_type": "markdown",
   "id": "66b21ce8",
   "metadata": {},
   "source": [
    "## Variable length list"
   ]
  },
  {
   "cell_type": "code",
   "execution_count": 20,
   "id": "0a73ca5e",
   "metadata": {},
   "outputs": [
    {
     "name": "stdout",
     "output_type": "stream",
     "text": [
      "<class 'list'> 10 [0, 0, 0, 0, 0, 0, 0, 0, 0, 0]\n",
      "<class 'list'> 10 [0, 1, 2, 3, 4, 5, 6, 7, 8, 9]\n",
      "True\n"
     ]
    }
   ],
   "source": [
    "n = 10 #simple variable\n",
    "a = [0] * n # creates a list with n 0s\n",
    "b = list(range(n))\n",
    "\n",
    "print(type(a), len(a), a)\n",
    "print(type(b), len(b), b)\n",
    "print(type(a) == type(b))"
   ]
  },
  {
   "cell_type": "markdown",
   "id": "59c93d05",
   "metadata": {},
   "source": [
    "# 2. List Functions and Operations"
   ]
  },
  {
   "cell_type": "code",
   "execution_count": 23,
   "id": "3707f879",
   "metadata": {},
   "outputs": [
    {
     "name": "stdout",
     "output_type": "stream",
     "text": [
      "a =  [2, 3, 5, 2]\n",
      "len = 4\n",
      "min = 2\n",
      "max = 5\n",
      "sum = 12\n",
      "------------------\n",
      "a == b True\n",
      "a == c False\n",
      "a != b False\n",
      "a != c True\n",
      "------------------\n",
      "a < c True\n",
      "a < d False\n"
     ]
    }
   ],
   "source": [
    "a = [ 2, 3, 5, 2 ]\n",
    "print(\"a = \", a)\n",
    "print(\"len =\", len(a))\n",
    "print(\"min =\", min(a)) #minimum int/float value in the list\n",
    "print(\"max =\", max(a)) # maximum int/float type value in the list\n",
    "print(\"sum =\", sum(a)) # sum of int/float type values in the list\n",
    "\n",
    "# Create some lists\n",
    "a = [ 2, 3, 5, 3, 7 ]\n",
    "b = [ 2, 3, 5, 3, 7 ]   # same as a\n",
    "c = [ 2, 3, 5, 3, 8 ]   # differs in last element\n",
    "d = [ 2, 3, 5 ]         # prefix of a\n",
    "\n",
    "print(\"------------------\")\n",
    "print(\"a == b\", (a == b)) #-> True\n",
    "print(\"a == c\", (a == c)) #-> False\n",
    "print(\"a != b\", (a != b)) # -> False\n",
    "print(\"a != c\", (a != c)) # -> True\n",
    "\n",
    "print(\"------------------\")\n",
    "print(\"a < c\", (a < c)) # -> True\n",
    "print(\"a < d\", (a < d)) # -> False"
   ]
  },
  {
   "cell_type": "markdown",
   "id": "39c7379c",
   "metadata": {},
   "source": [
    "# 3. Accessing Elements in a List(Indexing and slicing)"
   ]
  },
  {
   "cell_type": "code",
   "execution_count": 37,
   "id": "58e9b25b",
   "metadata": {},
   "outputs": [
    {
     "name": "stdout",
     "output_type": "stream",
     "text": [
      "a[0]     = 2\n",
      "a[2]     = 5\n",
      "a[-1]    = 13\n",
      "a[-3]    = 7\n",
      "a[0:2]   = [2, 3]\n",
      "a[1:4]   = [3, 5, 7]\n",
      "a[1:6:2] = [2, 7]\n"
     ]
    }
   ],
   "source": [
    "# Indexing and slicing for lists works the same way as it did for strings!\n",
    "\n",
    "a = [2, 3, 5, 7,11,13] # len=6\n",
    "\n",
    "# Access non-negative indexes\n",
    "print(\"a[0]     =\", a[0])\n",
    "print(\"a[2]     =\", a[2])\n",
    "\n",
    "# Access negative indexes\n",
    "print(\"a[-1]    =\", a[-1]) # -> 13 , type = int \n",
    "print(\"a[-3]    =\", a[-3]) # -> 7 , type = int\n",
    "\n",
    "# Access slices a[start:end:step]\n",
    "print(\"a[0:2]   =\", a[0:2]) #-> type = list, out = [2,3]\n",
    "print(\"a[1:4]   =\", a[1:4]) #->    \"       , out = [3,5,7]\n",
    "print(\"a[1:6:2] =\", a[0:6:3]) # -> \" , out = [3,7, 13]"
   ]
  },
  {
   "cell_type": "code",
   "execution_count": 36,
   "id": "69ad5a19-cd97-47df-84b9-28bd8deeef30",
   "metadata": {},
   "outputs": [
    {
     "data": {
      "text/plain": [
       "[2, 3, 5, 7, 11, 13]"
      ]
     },
     "execution_count": 36,
     "metadata": {},
     "output_type": "execute_result"
    }
   ],
   "source": [
    "a[0:6]"
   ]
  },
  {
   "cell_type": "code",
   "execution_count": 28,
   "id": "c7c7cf42-b8b1-48d0-8a49-7b42bf857c38",
   "metadata": {},
   "outputs": [
    {
     "data": {
      "text/plain": [
       "-10"
      ]
     },
     "execution_count": 28,
     "metadata": {},
     "output_type": "execute_result"
    }
   ],
   "source": [
    "i[-1]"
   ]
  },
  {
   "cell_type": "markdown",
   "id": "7afd78fb",
   "metadata": {},
   "source": [
    "i[-1]"
   ]
  },
  {
   "cell_type": "code",
   "execution_count": 41,
   "id": "40e8a556",
   "metadata": {},
   "outputs": [],
   "source": [
    "# Create a list\n",
    "a = [ 2, 3, 5, 7 ]\n",
    "\n",
    "# Create an alias to the list\n",
    "b = a\n",
    "\n",
    "# We now have two references (aliases) to the SAME list\n",
    "a[0] = 42 #-> assigning a value at the index 0\n",
    "b[1] = 99 # \n",
    "b[0] = 102"
   ]
  },
  {
   "cell_type": "code",
   "execution_count": 42,
   "id": "38a8b801-26d6-4a2b-953d-d26cbc2c8076",
   "metadata": {},
   "outputs": [
    {
     "name": "stdout",
     "output_type": "stream",
     "text": [
      "102\n"
     ]
    }
   ],
   "source": [
    "print(a[0])"
   ]
  },
  {
   "cell_type": "markdown",
   "id": "7047c482",
   "metadata": {},
   "source": [
    "print(a[0])"
   ]
  },
  {
   "cell_type": "code",
   "execution_count": 54,
   "id": "548c9e05",
   "metadata": {},
   "outputs": [
    {
     "name": "stdout",
     "output_type": "stream",
     "text": [
      "[100, 2, 1] last output\n"
     ]
    }
   ],
   "source": [
    "# a = [2, 3, 5, 7]\n",
    "\n",
    "# def f(a_list):\n",
    "#     a_list[0] = 42 #a = [42, 3, 5, 7]\n",
    "\n",
    "# f(a_list=a)\n",
    "# print(a) #-> [42, 3, 5, 7]\n",
    "\n",
    "# Note that the parameter alias can still be broken by re-assigning the variable\n",
    "\n",
    "original = [3, 2, 1]\n",
    "\n",
    "def foo(var_list):\n",
    "    var_list[0] = 100 # a = [100,2,1] \n",
    "    \n",
    "    var_list = [5, 2, 0] # we break the alias here!\n",
    "    var_list[0] = 4 # a [4,2,0]\n",
    "\n",
    "foo(var_list=original)\n",
    "print(original, \"last output\")"
   ]
  },
  {
   "cell_type": "code",
   "execution_count": 64,
   "id": "85a8e837-7479-4bb5-b9bb-970154fdcddc",
   "metadata": {},
   "outputs": [
    {
     "name": "stdout",
     "output_type": "stream",
     "text": [
      "200\n"
     ]
    }
   ],
   "source": [
    "a_global = 12\n",
    "\n",
    "def fn():\n",
    "    global a_local\n",
    "    a_local = 200\n",
    "\n",
    "fn()\n",
    "\n",
    "#print(a_global)\n",
    "print(a_local)"
   ]
  },
  {
   "cell_type": "markdown",
   "id": "0bef79d1",
   "metadata": {},
   "source": []
  },
  {
   "cell_type": "code",
   "execution_count": null,
   "id": "59428500",
   "metadata": {},
   "outputs": [],
   "source": [
    "# Create a list\n",
    "a = [ 2, 3, 5, 7 ]\n",
    "\n",
    "# Create an alias to the list\n",
    "b = a\n",
    "\n",
    "# Create a different list with the same elements\n",
    "c = [ 2, 3, 5, 7 ]\n",
    "\n",
    "# a and b are references (aliases) to the SAME list\n",
    "# c is a reference to a different but EQUAL list\n",
    "\n",
    "print(\"initially:\")\n",
    "print(\"  a==b  :\", a==b)\n",
    "print(\"  a==c  :\", a==c)\n",
    "print(\"  a is b:\", a is b) # the is operation tells if two values are aliases, or basic datatypes\n",
    "print(\"  a is c:\", a is c)\n",
    "\n",
    "# Now changes to a also change b (the SAME list) but not c (a different list)\n",
    "a[0] = 42\n",
    "print(\"After changing a[0] to 42\")\n",
    "print(\"  a=\", a)\n",
    "print(\"  b=\", b)\n",
    "print(\"  c=\", c)\n",
    "print(\"  a==b  :\", a==b)\n",
    "print(\"  a==c  :\", a==c)\n",
    "print(\"  a is b:\", a is b)\n",
    "print(\"  a is c:\", a is c)"
   ]
  },
  {
   "cell_type": "markdown",
   "id": "86c140cc",
   "metadata": {},
   "source": []
  },
  {
   "cell_type": "code",
   "execution_count": 65,
   "id": "aab9e95c",
   "metadata": {},
   "outputs": [
    {
     "name": "stdout",
     "output_type": "stream",
     "text": [
      "At first...\n",
      "   a = [2, 3]\n",
      "   b = [2, 3]\n",
      "   c = [2, 3]\n",
      "But after a[0] = 42\n",
      "   a = [42, 3]\n",
      "   b = [42, 3]\n",
      "   c = [2, 3]\n"
     ]
    }
   ],
   "source": [
    "# Because of aliasing, we have to be careful if we share a reference\n",
    "# to a list in the same way we might for number or a string,\n",
    "# by simply setting b = a, like so:\n",
    "\n",
    "import copy\n",
    "\n",
    "# Create a list\n",
    "a = [ 2, 3 ]\n",
    "\n",
    "# Try to copy it\n",
    "b = a             # Error!  Not a copy, but an alias\n",
    "c = copy.copy(a)  # Ok\n",
    "\n",
    "# At first, things seem ok\n",
    "print(\"At first...\")\n",
    "print(\"   a =\", a)\n",
    "print(\"   b =\", b)\n",
    "print(\"   c =\", c)\n",
    "\n",
    "# Now modify a[0]\n",
    "a[0] = 42\n",
    "print(\"But after a[0] = 42\")\n",
    "print(\"   a =\", a)\n",
    "print(\"   b =\", b)\n",
    "print(\"   c =\", c)"
   ]
  },
  {
   "cell_type": "code",
   "execution_count": 69,
   "id": "9adb8a0c",
   "metadata": {},
   "outputs": [
    {
     "name": "stdout",
     "output_type": "stream",
     "text": [
      "[42, 3] [2, 3] [2, 3] [2, 3] [2, 3]\n"
     ]
    }
   ],
   "source": [
    "import copy\n",
    "\n",
    "a = [2, 3]\n",
    "\n",
    "b = copy.copy(a)\n",
    "c = a[:]\n",
    "d = a + []\n",
    "e = list(a)\n",
    "\n",
    "a[0] = 42\n",
    "print(a, b, c, d, e)"
   ]
  },
  {
   "cell_type": "code",
   "execution_count": 67,
   "id": "499ead7e-51eb-458e-a104-d1b611148957",
   "metadata": {},
   "outputs": [
    {
     "data": {
      "text/plain": [
       "[42, 3]"
      ]
     },
     "execution_count": 67,
     "metadata": {},
     "output_type": "execute_result"
    }
   ],
   "source": [
    "a"
   ]
  },
  {
   "cell_type": "code",
   "execution_count": 70,
   "id": "422f5d57",
   "metadata": {},
   "outputs": [
    {
     "name": "stdout",
     "output_type": "stream",
     "text": [
      "At first, a = [1, 2, 3, 4, 5]\n",
      "After fill(a, 42), a = [42, 42, 42, 42, 42]\n"
     ]
    }
   ],
   "source": [
    "# A destructive function is written to directly change the provided list\n",
    "# It does not need to return anything, as the caller can access the original list\n",
    "a = [1, 2, 3, 4, 5]\n",
    "def fill(a, value):\n",
    "    for i in range(len(a)):\n",
    "        a[i] = value\n",
    "\n",
    "    # a=[42,42,42,42,42]\n",
    "\n",
    "print(\"At first, a =\", a)\n",
    "fill(a, 42)\n",
    "print(\"After fill(a, 42), a =\", a)"
   ]
  },
  {
   "cell_type": "code",
   "execution_count": 73,
   "id": "812a1dab-9dd2-4a31-a0f8-e96f13c45ff3",
   "metadata": {},
   "outputs": [
    {
     "name": "stdout",
     "output_type": "stream",
     "text": [
      "[1, 2, 3, 4]\n"
     ]
    }
   ],
   "source": [
    "a = [1, 'name',2, 3, 4]\n",
    "a.remove('name')\n",
    "print(a)"
   ]
  },
  {
   "cell_type": "code",
   "execution_count": 74,
   "id": "a1509deb-7906-4bde-b2c0-af1ba4f3887a",
   "metadata": {},
   "outputs": [
    {
     "name": "stdout",
     "output_type": "stream",
     "text": [
      "[1, 2, 3, 4, 54]\n"
     ]
    }
   ],
   "source": [
    "a.append(54)\n",
    "print(a)"
   ]
  },
  {
   "cell_type": "code",
   "execution_count": 75,
   "id": "26b484cd",
   "metadata": {},
   "outputs": [
    {
     "name": "stdout",
     "output_type": "stream",
     "text": [
      "[1, 3, 4]\n",
      "[1, 3, 4, 70]\n",
      "At first\n",
      "   a = [1, 2, 3, 4, 3, 2, 1]\n",
      "After destructiveRemoveAll(a, 2)\n",
      "   a = [1, 3, 4, 3, 1]\n",
      "After b = nonDestructiveRemoveAll(a, 3)\n",
      "   a = [1, 3, 4, 3, 1]\n",
      "   b = [1, 4, 1]\n",
      "After c = alternateNonDestructiveRemoveAll(a, 1)\n",
      "   a = [1, 3, 4, 3, 1]\n",
      "   c = [3, 4, 3]\n"
     ]
    }
   ],
   "source": [
    "import copy\n",
    "\n",
    "## First, a quick primer on modifying lists ##\n",
    "## We'll talk about these more in a bit ##\n",
    "\n",
    "a = [1, 2, 3, 4]\n",
    "\n",
    "# .remove() DESTRUCTIVELY removes the given value from the list\n",
    "a.remove(2)\n",
    "print(a) # [1, 3, 4]\n",
    "\n",
    "# .append() DESTRUCTIVELY adds the given value to the end of the list\n",
    "a.append(70)\n",
    "print(a) # [1, 3, 4, 70]\n",
    "\n",
    "## Now, on to NON-DESTRUCTIVE functions! ##\n",
    "\n",
    "def destructiveRemoveAll(a, value):\n",
    "    while (value in a):\n",
    "        #start\n",
    "        a.remove(value)\n",
    "        #end\n",
    "\n",
    "def nonDestructiveRemoveAll(a, value):\n",
    "    # Typically, we write non-destructive functions by building a new list\n",
    "    # instead of changing the original\n",
    "    result = []\n",
    "    for element in a:\n",
    "        if (element != value):\n",
    "            result.append(element)\n",
    "    return result # non-destructive functions still need to return!\n",
    "\n",
    "def alternateNonDestructiveRemoveAll(a, value):\n",
    "    # We can write the same function by breaking the alias,\n",
    "    # then using the destructive approach\n",
    "    a = copy.copy(a)\n",
    "    destructiveRemoveAll(a, value)\n",
    "    return a\n",
    "\n",
    "a = [ 1, 2, 3, 4, 3, 2, 1 ]\n",
    "print(\"At first\")\n",
    "print(\"   a =\", a)\n",
    "\n",
    "destructiveRemoveAll(a, 2)\n",
    "print(\"After destructiveRemoveAll(a, 2)\")\n",
    "print(\"   a =\", a)\n",
    "\n",
    "b = nonDestructiveRemoveAll(a, 3)\n",
    "print(\"After b = nonDestructiveRemoveAll(a, 3)\")\n",
    "print(\"   a =\", a)\n",
    "print(\"   b =\", b)\n",
    "\n",
    "c = alternateNonDestructiveRemoveAll(a, 1)\n",
    "print(\"After c = alternateNonDestructiveRemoveAll(a, 1)\")\n",
    "print(\"   a =\", a)\n",
    "print(\"   c =\", c)"
   ]
  },
  {
   "cell_type": "code",
   "execution_count": 76,
   "id": "736a6f78",
   "metadata": {},
   "outputs": [
    {
     "name": "stdout",
     "output_type": "stream",
     "text": [
      "a      = [2, 3, 5, 2, 6, 2, 2, 7]\n",
      "2 in a = True\n",
      "4 in a = False\n"
     ]
    }
   ],
   "source": [
    "a = [ 2, 3, 5, 2, 6, 2, 2, 7 ]\n",
    "print(\"a      =\", a)\n",
    "print(\"2 in a =\", (2 in a))\n",
    "print(\"4 in a =\", (4 in a))"
   ]
  },
  {
   "cell_type": "code",
   "execution_count": 77,
   "id": "7a55cfc9",
   "metadata": {},
   "outputs": [
    {
     "name": "stdout",
     "output_type": "stream",
     "text": [
      "a          = [2, 3, 5, 2, 6, 2, 2, 7]\n",
      "2 not in a = False\n",
      "4 not in a = True\n"
     ]
    }
   ],
   "source": [
    "a = [ 2, 3, 5, 2, 6, 2, 2, 7 ]\n",
    "print(\"a          =\", a)\n",
    "print(\"2 not in a =\", (2 not in a))\n",
    "print(\"4 not in a =\", (4 not in a))"
   ]
  },
  {
   "cell_type": "code",
   "execution_count": 79,
   "id": "3b445c9f",
   "metadata": {},
   "outputs": [
    {
     "name": "stdout",
     "output_type": "stream",
     "text": [
      "a          = [2, 3, 5, 2, 6, 2, 2, 7]\n",
      "a.count(1) = 0\n",
      "a.count(2) = 4\n",
      "a.count(3) = 1\n"
     ]
    }
   ],
   "source": [
    "a = [ 2, 3, 5, 2, 6, 2, 2, 7 ]\n",
    "print(\"a          =\", a)\n",
    "print(\"a.count(1) =\", a.count(1)) \n",
    "print(\"a.count(2) =\", a.count(2))\n",
    "print(\"a.count(3) =\", a.count(3))"
   ]
  },
  {
   "cell_type": "code",
   "execution_count": 80,
   "id": "33514428",
   "metadata": {},
   "outputs": [
    {
     "name": "stdout",
     "output_type": "stream",
     "text": [
      "a            = [2, 3, 5, 2, 6, 2, 2, 7]\n",
      "a.index(6)   = 4\n",
      "a.index(2)   = 0\n",
      "a.index(2,1) = 3\n",
      "a.index(2,4) = 5\n"
     ]
    }
   ],
   "source": [
    "a = [ 2, 3, 5, 2, 6, 2, 2, 7 ]\n",
    "print(\"a            =\", a)\n",
    "print(\"a.index(6)   =\", a.index(6))\n",
    "print(\"a.index(2)   =\", a.index(2))\n",
    "print(\"a.index(2,1) =\", a.index(2,1))\n",
    "print(\"a.index(2,4) =\", a.index(2,4))"
   ]
  },
  {
   "cell_type": "code",
   "execution_count": 81,
   "id": "475e067f",
   "metadata": {},
   "outputs": [
    {
     "name": "stdout",
     "output_type": "stream",
     "text": [
      "a          = [2, 3, 5, 2]\n"
     ]
    },
    {
     "ename": "ValueError",
     "evalue": "9 is not in list",
     "output_type": "error",
     "traceback": [
      "\u001b[0;31m---------------------------------------------------------------------------\u001b[0m",
      "\u001b[0;31mValueError\u001b[0m                                Traceback (most recent call last)",
      "Cell \u001b[0;32mIn[81], line 3\u001b[0m\n\u001b[1;32m      1\u001b[0m a \u001b[38;5;241m=\u001b[39m [ \u001b[38;5;241m2\u001b[39m, \u001b[38;5;241m3\u001b[39m, \u001b[38;5;241m5\u001b[39m, \u001b[38;5;241m2\u001b[39m ]\n\u001b[1;32m      2\u001b[0m \u001b[38;5;28mprint\u001b[39m(\u001b[38;5;124m\"\u001b[39m\u001b[38;5;124ma          =\u001b[39m\u001b[38;5;124m\"\u001b[39m, a)\n\u001b[0;32m----> 3\u001b[0m \u001b[38;5;28mprint\u001b[39m(\u001b[38;5;124m\"\u001b[39m\u001b[38;5;124ma.index(9) =\u001b[39m\u001b[38;5;124m\"\u001b[39m, a\u001b[38;5;241m.\u001b[39mindex(\u001b[38;5;241m9\u001b[39m)) \u001b[38;5;66;03m# crashes!\u001b[39;00m\n\u001b[1;32m      4\u001b[0m \u001b[38;5;28mprint\u001b[39m(\u001b[38;5;124m\"\u001b[39m\u001b[38;5;124mThis line will not run!\u001b[39m\u001b[38;5;124m\"\u001b[39m)\n",
      "\u001b[0;31mValueError\u001b[0m: 9 is not in list"
     ]
    }
   ],
   "source": [
    "a = [ 2, 3, 5, 2 ]\n",
    "print(\"a          =\", a)\n",
    "print(\"a.index(9) =\", a.index(9)) # crashes!\n",
    "print(\"This line will not run!\")"
   ]
  },
  {
   "cell_type": "code",
   "execution_count": 84,
   "id": "583e1183",
   "metadata": {},
   "outputs": [
    {
     "name": "stdout",
     "output_type": "stream",
     "text": [
      "a = [2, 3, 5, 2]\n",
      "a.index(9) = 0\n",
      "This line will run now!\n"
     ]
    }
   ],
   "source": [
    "a = [ 2, 3, 5, 2 ]\n",
    "print(\"a =\", a)\n",
    "if (2 in a):\n",
    "    print(\"a.index(9) =\", a.index(2))\n",
    "else:\n",
    "    print(\"9 not in\", a)\n",
    "print(\"This line will run now!\")"
   ]
  },
  {
   "cell_type": "code",
   "execution_count": 85,
   "id": "e7181507",
   "metadata": {},
   "outputs": [
    {
     "name": "stdout",
     "output_type": "stream",
     "text": [
      "[2, 3, 7]\n"
     ]
    }
   ],
   "source": [
    "a = [ 2, 3 ]\n",
    "a.append(7)\n",
    "print(a)"
   ]
  },
  {
   "cell_type": "code",
   "execution_count": 86,
   "id": "3b0ad5ca",
   "metadata": {},
   "outputs": [
    {
     "name": "stdout",
     "output_type": "stream",
     "text": [
      "[2, 3, 11, 13]\n",
      "[2, 3, 11, 13, 17, 19]\n"
     ]
    }
   ],
   "source": [
    "a = [ 2, 3 ]\n",
    "a += [ 11, 13 ] # a = a+ [11,13]\n",
    "print(a)\n",
    "a.extend([ 17, 19 ])\n",
    "print(a)"
   ]
  },
  {
   "cell_type": "code",
   "execution_count": 87,
   "id": "7f865695",
   "metadata": {},
   "outputs": [
    {
     "name": "stdout",
     "output_type": "stream",
     "text": [
      "[2, 3, 42, 5, 7, 11]\n"
     ]
    }
   ],
   "source": [
    "a = [ 2, 3, 5, 7, 11 ]\n",
    "a.insert(2, 42)  # at index 2, insert 42\n",
    "print(a)"
   ]
  },
  {
   "cell_type": "code",
   "execution_count": 88,
   "id": "7e45357e",
   "metadata": {},
   "outputs": [
    {
     "name": "stdout",
     "output_type": "stream",
     "text": [
      "[2, 3]\n",
      "[2, 3, 13, 17]\n"
     ]
    }
   ],
   "source": [
    "a = [ 2, 3 ]\n",
    "b = a + [ 13, 17 ]\n",
    "print(a)\n",
    "print(b)"
   ]
  },
  {
   "cell_type": "code",
   "execution_count": 90,
   "id": "95c51436",
   "metadata": {},
   "outputs": [
    {
     "name": "stdout",
     "output_type": "stream",
     "text": [
      "[2, 3]\n",
      "[2, 3, 5, 3]\n"
     ]
    }
   ],
   "source": [
    "a = [ 2, 3 ]\n",
    "b = a[:2] + [5] + a[1:]\n",
    "print(a)\n",
    "print(b)"
   ]
  },
  {
   "cell_type": "code",
   "execution_count": 91,
   "id": "1253c6ff",
   "metadata": {},
   "outputs": [
    {
     "name": "stdout",
     "output_type": "stream",
     "text": [
      "Destructive:\n",
      "[2, 3, 4]\n",
      "[2, 3, 4]\n",
      "Non-Destructive:\n",
      "[2, 3, 4]\n",
      "[2, 3]\n"
     ]
    }
   ],
   "source": [
    "print(\"Destructive:\")\n",
    "a = [ 2, 3 ]\n",
    "b = a\n",
    "a += [ 4 ] #\n",
    "print(a)\n",
    "print(b)\n",
    "\n",
    "print(\"Non-Destructive:\")\n",
    "a = [ 2, 3 ]\n",
    "b = a\n",
    "a = a + [ 4 ] # this overwrites a, but not the alias of b\n",
    "print(a)\n",
    "print(b)"
   ]
  },
  {
   "cell_type": "code",
   "execution_count": 92,
   "id": "9e4e1a5b",
   "metadata": {},
   "outputs": [
    {
     "name": "stdout",
     "output_type": "stream",
     "text": [
      "a = [2, 3, 5, 3, 7, 6, 5, 11, 13]\n",
      "After a.remove(5), a= [2, 3, 3, 7, 6, 5, 11, 13]\n",
      "After another a.remove(5), a= [2, 3, 3, 7, 6, 11, 13]\n"
     ]
    }
   ],
   "source": [
    "a = [ 2, 3, 5, 3, 7, 6, 5, 11, 13 ]\n",
    "print(\"a =\", a)\n",
    "\n",
    "a.remove(5) #\n",
    "print(\"After a.remove(5), a=\", a)\n",
    "\n",
    "a.remove(5)\n",
    "print(\"After another a.remove(5), a=\", a)"
   ]
  },
  {
   "cell_type": "code",
   "execution_count": 93,
   "id": "f5639f1f",
   "metadata": {},
   "outputs": [
    {
     "name": "stdout",
     "output_type": "stream",
     "text": [
      "a = [2, 3, 4, 5, 6, 7, 8]\n",
      "After item = a.pop(3)\n",
      "   item = 5\n",
      "   a = [2, 3, 4, 6, 7, 8]\n",
      "After another item = a.pop(3)\n",
      "   item = 6\n",
      "   a = [2, 3, 4, 7, 8]\n",
      "After item = a.pop()\n",
      "   item = 8\n",
      "   a = [2, 3, 4, 7]\n"
     ]
    }
   ],
   "source": [
    "a = [2, 3, 4, 5, 6, 7, 8]\n",
    "print(\"a =\", a)\n",
    "\n",
    "item = a.pop(3)\n",
    "print(\"After item = a.pop(3)\")\n",
    "print(\"   item =\", item)\n",
    "print(\"   a =\", a)\n",
    "\n",
    "item = a.pop(3)\n",
    "print(\"After another item = a.pop(3)\")\n",
    "print(\"   item =\", item)\n",
    "print(\"   a =\", a)\n",
    "\n",
    "# Remove last item with list.pop()\n",
    "item = a.pop()\n",
    "print(\"After item = a.pop()\")\n",
    "print(\"   item =\", item)\n",
    "print(\"   a =\", a)"
   ]
  },
  {
   "cell_type": "code",
   "execution_count": 94,
   "id": "898b4fff",
   "metadata": {},
   "outputs": [
    {
     "name": "stdout",
     "output_type": "stream",
     "text": [
      "a = [2, 3, 5, 3, 7, 5, 11, 13]\n",
      "After b = a[:2] + a[3:]\n",
      "   a = [2, 3, 5, 3, 7, 5, 11, 13]\n",
      "   b = [2, 3, 3, 7, 5, 11, 13]\n"
     ]
    }
   ],
   "source": [
    "a = [ 2, 3, 5, 3, 7, 5, 11, 13 ]\n",
    "print(\"a =\", a)\n",
    "\n",
    "b = a[:2] + a[3:]\n",
    "print(\"After b = a[:2] + a[3:]\")\n",
    "print(\"   a =\", a)\n",
    "print(\"   b =\", b)"
   ]
  },
  {
   "cell_type": "code",
   "execution_count": 96,
   "id": "a1284a02",
   "metadata": {},
   "outputs": [
    {
     "name": "stdout",
     "output_type": "stream",
     "text": [
      "Here are the items in a with their indexes:\n",
      "a[ 0 ] = 2\n",
      "a[ 1 ] = 3\n",
      "a[ 2 ] = 5\n",
      "a[ 3 ] = 7\n"
     ]
    }
   ],
   "source": [
    "a = [ 2, 3, 5, 7 ]\n",
    "print(\"Here are the items in a with their indexes:\")\n",
    "for index in range(len(a)):\n",
    "    print(\"a[\", index, \"] =\", a[index])"
   ]
  },
  {
   "cell_type": "code",
   "execution_count": 97,
   "id": "e139dc73",
   "metadata": {},
   "outputs": [
    {
     "name": "stdout",
     "output_type": "stream",
     "text": [
      "Here are the items in a:\n",
      "2\n",
      "3\n",
      "5\n",
      "7\n"
     ]
    }
   ],
   "source": [
    "# Lists and strings are both iterable types.\n",
    "# This means that we can iterate (loop) over them directly!\n",
    "a = [ 2, 3, 5, 7 ]\n",
    "print(\"Here are the items in a:\")\n",
    "for item in a:\n",
    "    print(item)"
   ]
  },
  {
   "cell_type": "code",
   "execution_count": 105,
   "id": "accce3dd",
   "metadata": {},
   "outputs": [
    {
     "name": "stdout",
     "output_type": "stream",
     "text": [
      "a = [2, 3, 5, 3, 7]\n",
      "Iteration 0\n",
      "What a looks like before [2, 3, 5, 3, 7]\n",
      "Iteration 1\n",
      "What a looks like before [2, 3, 5, 3, 7]\n",
      "What a looks like after [2, 5, 3, 7]\n",
      "Iteration 2\n",
      "What a looks like before [2, 5, 3, 7]\n",
      "What a looks like after [2, 5, 7]\n",
      "Iteration 3\n",
      "What a looks like before [2, 5, 7]\n"
     ]
    },
    {
     "ename": "IndexError",
     "evalue": "list index out of range",
     "output_type": "error",
     "traceback": [
      "\u001b[0;31m---------------------------------------------------------------------------\u001b[0m",
      "\u001b[0;31mIndexError\u001b[0m                                Traceback (most recent call last)",
      "Cell \u001b[0;32mIn[105], line 12\u001b[0m\n\u001b[1;32m     10\u001b[0m \u001b[38;5;66;03m#print('Position/Index',index, 'is', a[index])\u001b[39;00m\n\u001b[1;32m     11\u001b[0m \u001b[38;5;28mprint\u001b[39m(\u001b[38;5;124m'\u001b[39m\u001b[38;5;124mWhat a looks like before\u001b[39m\u001b[38;5;124m'\u001b[39m, a)\n\u001b[0;32m---> 12\u001b[0m \u001b[38;5;28;01mif\u001b[39;00m (a[index] \u001b[38;5;241m==\u001b[39m \u001b[38;5;241m3\u001b[39m):  \u001b[38;5;66;03m# this eventually crashes!   \u001b[39;00m\n\u001b[1;32m     13\u001b[0m     a\u001b[38;5;241m.\u001b[39mpop(index)\n\u001b[1;32m     14\u001b[0m     \u001b[38;5;28mprint\u001b[39m(\u001b[38;5;124m'\u001b[39m\u001b[38;5;124mWhat a looks like after\u001b[39m\u001b[38;5;124m'\u001b[39m, a)\n",
      "\u001b[0;31mIndexError\u001b[0m: list index out of range"
     ]
    }
   ],
   "source": [
    "# IMPORTANT: don't change a list inside a for loop! The indexes will behave unpredictably.\n",
    "# This isn't a problem for strings because they aren't mutable.\n",
    "a = [ 2, 3, 5, 3, 7 ]\n",
    "    \n",
    "print(\"a =\", a)\n",
    "\n",
    "# Failed attempt to remove all the 3's\n",
    "for index in range(len(a)):\n",
    "    print(\"Iteration\", index)\n",
    "    #print('Position/Index',index, 'is', a[index])\n",
    "    print('What a looks like before', a)\n",
    "    if (a[index] == 3):  # this eventually crashes!   \n",
    "        a.pop(index)\n",
    "        print('What a looks like after', a) \n",
    "\n",
    "#print(\"This line will not run!\")"
   ]
  },
  {
   "cell_type": "code",
   "execution_count": 110,
   "id": "38a98b82",
   "metadata": {},
   "outputs": [
    {
     "name": "stdout",
     "output_type": "stream",
     "text": [
      "[2, 3, 4]\n"
     ]
    }
   ],
   "source": [
    "# If we remove items in a for-each loop, the loop won't crash,\n",
    "# but it won't behave as we would expect either!\n",
    "\n",
    "a = [3, 3, 2, 3, 4]\n",
    "for items in a:       # this won't reach every item in the list!\n",
    "    if (item == 3):\n",
    "       a.remove(item)\n",
    "print(a) # should be [2, 4], but there's still a 3 in there!"
   ]
  },
  {
   "cell_type": "code",
   "execution_count": 111,
   "id": "72213a18",
   "metadata": {},
   "outputs": [
    {
     "name": "stdout",
     "output_type": "stream",
     "text": [
      "a = [2, 3, 5, 3, 7]\n",
      "This line will run!\n",
      "And now a = [2, 5, 7]\n"
     ]
    }
   ],
   "source": [
    "# Modify the list in a while loop instead of a for loop,\n",
    "# to control how indexes \n",
    "\n",
    "a = [ 2, 3, 5, 3, 7 ]\n",
    "print(\"a =\", a)\n",
    "\n",
    "# Successful attempt to remove all the 3's\n",
    "index = 0\n",
    "while (index < len(a)):\n",
    "    if (a[index] == 3):\n",
    "        a.pop(index)\n",
    "    else:\n",
    "        index += 1\n",
    "\n",
    "print(\"This line will run!\")\n",
    "print(\"And now a =\", a)"
   ]
  },
  {
   "cell_type": "code",
   "execution_count": 112,
   "id": "8264fc6f",
   "metadata": {},
   "outputs": [
    {
     "name": "stdout",
     "output_type": "stream",
     "text": [
      "At first, a = [7, 2, 5, 3, 5, 11, 7]\n",
      "After a.sort(), a = [2, 3, 5, 5, 7, 7, 11]\n",
      "Here are the items in reverse:\n",
      "7\n",
      "5\n",
      "3\n",
      "2\n",
      "[7, 5, 3, 2]\n"
     ]
    }
   ],
   "source": [
    "a = [ 7, 2, 5, 3, 5, 11, 7 ]\n",
    "print(\"At first, a =\", a)\n",
    "a.sort()\n",
    "print(\"After a.sort(), a =\",a)\n",
    "\n",
    "a = [ 2, 3, 5, 7 ]\n",
    "print(\"Here are the items in reverse:\")\n",
    "a.reverse()\n",
    "for item in a:\n",
    "    print(item)\n",
    "print(a)"
   ]
  },
  {
   "cell_type": "code",
   "execution_count": 113,
   "id": "680e95cc",
   "metadata": {},
   "outputs": [
    {
     "name": "stdout",
     "output_type": "stream",
     "text": [
      "At first\n",
      "   a = [7, 2, 5, 3, 5, 11, 7]\n",
      "After b = sorted(a)\n",
      "   a = [7, 2, 5, 3, 5, 11, 7]\n",
      "   b = [2, 3, 5, 5, 7, 7, 11]\n",
      "Here are the items in reverse:\n",
      "7\n",
      "5\n",
      "3\n",
      "2\n",
      "[2, 3, 5, 7]\n"
     ]
    }
   ],
   "source": [
    "a = [ 7, 2, 5, 3, 5, 11, 7 ]\n",
    "print(\"At first\")\n",
    "print(\"   a =\", a)\n",
    "b = sorted(a)\n",
    "print(\"After b = sorted(a)\")\n",
    "print(\"   a =\", a)\n",
    "print(\"   b =\", b)\n",
    "\n",
    "a = [ 2, 3, 5, 7 ]\n",
    "print(\"Here are the items in reverse:\")\n",
    "for item in reversed(a):\n",
    "    print(item)\n",
    "print(a)"
   ]
  },
  {
   "cell_type": "code",
   "execution_count": null,
   "id": "434f4493",
   "metadata": {},
   "outputs": [],
   "source": [
    "t = (1, 2, 3)\n",
    "print(type(t), len(t), t)\n",
    "\n",
    "a = [1, 2, 3]\n",
    "t = tuple(a)\n",
    "print(type(t), len(t), t)"
   ]
  },
  {
   "cell_type": "code",
   "execution_count": null,
   "id": "80b4b57a",
   "metadata": {},
   "outputs": [],
   "source": [
    "t = (1, 2, 3)\n",
    "print(t[0])\n",
    "\n",
    "t[0] = 42    # crash!\n",
    "print(t[0])"
   ]
  },
  {
   "cell_type": "code",
   "execution_count": null,
   "id": "e24faa67",
   "metadata": {},
   "outputs": [],
   "source": [
    "(x, y) = (1, 2)\n",
    "print(x)\n",
    "print(y)\n",
    "\n",
    "# tuples are useful for swapping!\n",
    "(x, y) = (y, x)\n",
    "print(x)\n",
    "print(y)"
   ]
  },
  {
   "cell_type": "code",
   "execution_count": null,
   "id": "da1718ad",
   "metadata": {},
   "outputs": [],
   "source": [
    "t = (42)\n",
    "print(type(t), t*5)\n",
    "\n",
    "t = (42,) # use a comma to force the type\n",
    "print(type(t), t*5)"
   ]
  },
  {
   "cell_type": "code",
   "execution_count": null,
   "id": "e9556644",
   "metadata": {},
   "outputs": [],
   "source": [
    "# Long way\n",
    "a = []\n",
    "for i in range(10):\n",
    "    a.append(i)\n",
    "print(a)\n",
    "\n",
    "# Short way\n",
    "a = [i for i in range(10)]\n",
    "print(a)\n",
    "\n",
    "# We can also add conditionals at the end (but keep it simple!)\n",
    "a = [(i*100) for i in range(20) if i%5 == 0]\n",
    "print(a)"
   ]
  },
  {
   "cell_type": "code",
   "execution_count": null,
   "id": "8b3c2baa",
   "metadata": {},
   "outputs": [],
   "source": [
    "# use list(s) to convert a string to a list of characters\n",
    "a = list(\"wahoo!\")\n",
    "print(a)  # prints: ['w', 'a', 'h', 'o', 'o', '!']\n",
    "\n",
    "# use s1.split(s2) to convert a string to a list of strings delimited by s2\n",
    "a = \"How are you doing today?\".split(\" \")\n",
    "print(a) # prints ['How', 'are', 'you', 'doing', 'today?']\n",
    "\n",
    "# use \"\".join(a) to convert a list of characters to a single string\n",
    "print(\"\".join(a))  # prints: Howareyoudoingtoday?\n",
    "\n",
    "# \"\".join(a) also works on a list of strings (not just single characters)\n",
    "a = [\"parsley\", \"is\", \"gharsley\"] # by Ogden Nash!\n",
    "print(\"\".join(a))  # prints: parsleyisgharsley\n",
    "print(\" \".join(a)) # prints: parsley is gharsley"
   ]
  },
  {
   "cell_type": "code",
   "execution_count": 116,
   "id": "a1d9dc1e-2399-4f81-b050-8ac923eabaf7",
   "metadata": {},
   "outputs": [
    {
     "data": {
      "text/plain": [
       "'nsnfk---nfks'"
      ]
     },
     "execution_count": 116,
     "metadata": {},
     "output_type": "execute_result"
    }
   ],
   "source": [
    "a = [\"nsnfk\", \"nfks\"]\n",
    "\n",
    "\n",
    "'---'.join(a)"
   ]
  },
  {
   "cell_type": "markdown",
   "id": "2e386d9d-098b-4cf1-9217-f988f04c7ce9",
   "metadata": {},
   "source": [
    "# 2d Lists"
   ]
  },
  {
   "cell_type": "code",
   "execution_count": 120,
   "id": "b5d1f780",
   "metadata": {},
   "outputs": [
    {
     "name": "stdout",
     "output_type": "stream",
     "text": [
      "[[2, 3, 4], [5, 6, 7], 'text', ['text', 'test']]\n"
     ]
    }
   ],
   "source": [
    "# create a 2d list with fixed values (static allocation)\n",
    "a = [ [ 2, 3, 4 ] , [ 5, 6, 7 ] , \"text\", ['text', 'test']]\n",
    "print(a)"
   ]
  },
  {
   "cell_type": "code",
   "execution_count": 23,
   "id": "cf647bcc-2ad3-457c-814e-dff9e4a4874c",
   "metadata": {},
   "outputs": [],
   "source": [
    "a = [11,27,45]\n",
    "b = [ [3,4,5], [8,6,7]     ]"
   ]
  },
  {
   "cell_type": "code",
   "execution_count": 31,
   "id": "a4cff739-e30c-463a-af51-9cc659a22912",
   "metadata": {},
   "outputs": [
    {
     "data": {
      "text/plain": [
       "[45]"
      ]
     },
     "execution_count": 31,
     "metadata": {},
     "output_type": "execute_result"
    }
   ],
   "source": [
    "a[2]"
   ]
  },
  {
   "cell_type": "code",
   "execution_count": 41,
   "id": "a06902f0-767d-4891-bdc6-4e0e0354237a",
   "metadata": {},
   "outputs": [],
   "source": [
    "a.append(5)"
   ]
  },
  {
   "cell_type": "code",
   "execution_count": 47,
   "id": "a45c21c7-083c-418d-bff5-3d751cbdfdca",
   "metadata": {},
   "outputs": [],
   "source": [
    "a.insert(4, 'A list is an array') "
   ]
  },
  {
   "cell_type": "code",
   "execution_count": 50,
   "id": "4d224728-96c9-4337-9caf-a1b2a568336d",
   "metadata": {},
   "outputs": [
    {
     "data": {
      "text/plain": [
       "[18, 5, 11, 27, 'A list is an array', 45, 5]"
      ]
     },
     "execution_count": 50,
     "metadata": {},
     "output_type": "execute_result"
    }
   ],
   "source": [
    "a"
   ]
  },
  {
   "cell_type": "code",
   "execution_count": 51,
   "id": "00bdc176-abf1-45e3-99ab-aaa9fcaae09f",
   "metadata": {},
   "outputs": [
    {
     "data": {
      "text/plain": [
       "27"
      ]
     },
     "execution_count": 51,
     "metadata": {},
     "output_type": "execute_result"
    }
   ],
   "source": [
    "a.pop(3)"
   ]
  },
  {
   "cell_type": "code",
   "execution_count": 56,
   "id": "2387193f-bf81-4f3e-8328-6604173413d1",
   "metadata": {},
   "outputs": [],
   "source": [
    "f = [3,5,7,10, [1, 2, 3]]"
   ]
  },
  {
   "cell_type": "code",
   "execution_count": 57,
   "id": "419cb0da-aa36-4e9b-9343-e096f22be0a3",
   "metadata": {},
   "outputs": [],
   "source": [
    "a.extend(f)"
   ]
  },
  {
   "cell_type": "code",
   "execution_count": 62,
   "id": "2383a604-b08e-4c70-8d1a-2f51b4d0f109",
   "metadata": {},
   "outputs": [
    {
     "data": {
      "text/plain": [
       "[18, 11, 'A list is an array', 45, 5, 3, 5, 7, 10, 3, 5, 7, 10, [1, 2, 3]]"
      ]
     },
     "execution_count": 62,
     "metadata": {},
     "output_type": "execute_result"
    }
   ],
   "source": [
    "a"
   ]
  },
  {
   "cell_type": "code",
   "execution_count": 59,
   "id": "3619e700-5b53-45ab-9c30-b27b539b1857",
   "metadata": {},
   "outputs": [],
   "source": [
    "a.remove(5)"
   ]
  },
  {
   "cell_type": "code",
   "execution_count": 65,
   "id": "7144af15-9461-4455-8f58-66e295e9305c",
   "metadata": {},
   "outputs": [
    {
     "data": {
      "text/plain": [
       "2"
      ]
     },
     "execution_count": 65,
     "metadata": {},
     "output_type": "execute_result"
    }
   ],
   "source": [
    "a.index('A list is an array')"
   ]
  },
  {
   "cell_type": "code",
   "execution_count": 19,
   "id": "90f7c36a-4aac-4371-9af8-971b775e80e2",
   "metadata": {},
   "outputs": [],
   "source": [
    "c = [ 'Hello', [1,5,8], ['Morning', 'Python']]"
   ]
  },
  {
   "cell_type": "code",
   "execution_count": 39,
   "id": "35a8afdd-a3d7-4f18-b34a-02bc8d0bc0a1",
   "metadata": {},
   "outputs": [
    {
     "ename": "SyntaxError",
     "evalue": "invalid syntax (2580667250.py, line 1)",
     "output_type": "error",
     "traceback": [
      "\u001b[0;36m  Cell \u001b[0;32mIn[39], line 1\u001b[0;36m\u001b[0m\n\u001b[0;31m    c[2][1][-]\u001b[0m\n\u001b[0m             ^\u001b[0m\n\u001b[0;31mSyntaxError\u001b[0m\u001b[0;31m:\u001b[0m invalid syntax\n"
     ]
    }
   ],
   "source": [
    "c[2][1][-]"
   ]
  },
  {
   "cell_type": "code",
   "execution_count": 9,
   "id": "36e940f5-22fd-4db7-87d8-0627819c4437",
   "metadata": {},
   "outputs": [
    {
     "data": {
      "text/plain": [
       "8"
      ]
     },
     "execution_count": 9,
     "metadata": {},
     "output_type": "execute_result"
    }
   ],
   "source": [
    "b[1][0]"
   ]
  },
  {
   "cell_type": "code",
   "execution_count": 66,
   "id": "52dada3b-7bad-4488-9c4d-c63772d5c68b",
   "metadata": {},
   "outputs": [],
   "source": [
    "a = [0] * 13"
   ]
  },
  {
   "cell_type": "code",
   "execution_count": 67,
   "id": "7862e679-95ac-4233-b11a-8ce1ae8e0019",
   "metadata": {},
   "outputs": [
    {
     "data": {
      "text/plain": [
       "[0, 0, 0, 0, 0, 0, 0, 0, 0, 0, 0, 0, 0]"
      ]
     },
     "execution_count": 67,
     "metadata": {},
     "output_type": "execute_result"
    }
   ],
   "source": [
    "a"
   ]
  },
  {
   "cell_type": "code",
   "execution_count": null,
   "id": "950cf6dc",
   "metadata": {},
   "outputs": [],
   "source": [
    "# Try, and FAIL, to create a variable-sized 2d list\n",
    "rows = 3\n",
    "cols = 2\n",
    "\n",
    "a = [ [0] * cols ] * rows # Error: creates shallow copy\n",
    "                          # Creates one unique row, the rest are aliases!\n",
    "\n",
    "print(\"This SEEMS ok.  At first:\")\n",
    "print(\"   a =\", a)\n",
    "\n",
    "a[0][0] = 42\n",
    "print(\"But see what happens after a[0][0]=42\")\n",
    "print(\"   a =\", a)"
   ]
  },
  {
   "cell_type": "code",
   "execution_count": 70,
   "id": "4b8b2996-0b53-49b8-9ec3-60d4d6139967",
   "metadata": {},
   "outputs": [],
   "source": [
    "rows = 3\n",
    "cols = 2"
   ]
  },
  {
   "cell_type": "code",
   "execution_count": 71,
   "id": "b2dc317a-8b21-4937-9aa7-f72678cc10ba",
   "metadata": {},
   "outputs": [],
   "source": [
    "a =  [ [0] * cols ] * rows"
   ]
  },
  {
   "cell_type": "code",
   "execution_count": 72,
   "id": "33ad1e36-6a1b-4666-bf76-cc36c8cbce98",
   "metadata": {},
   "outputs": [
    {
     "data": {
      "text/plain": [
       "[[0, 0], [0, 0], [0, 0]]"
      ]
     },
     "execution_count": 72,
     "metadata": {},
     "output_type": "execute_result"
    }
   ],
   "source": [
    "a"
   ]
  },
  {
   "cell_type": "code",
   "execution_count": 83,
   "id": "054d47fd-b4cc-4968-98cc-03f6527f24d1",
   "metadata": {},
   "outputs": [],
   "source": [
    "a = [ [0 , 0] ] * 3"
   ]
  },
  {
   "cell_type": "code",
   "execution_count": 78,
   "id": "3acc3dc6-2b5a-4999-9471-6b3b1183b2d0",
   "metadata": {},
   "outputs": [],
   "source": [
    "c = [ [1,5] ,[6,22], [11,18]]"
   ]
  },
  {
   "cell_type": "code",
   "execution_count": 81,
   "id": "055c01be-1055-4523-afe0-68d6ee2f9959",
   "metadata": {},
   "outputs": [],
   "source": [
    "c[-1][-1] = 15"
   ]
  },
  {
   "cell_type": "code",
   "execution_count": 82,
   "id": "1d6b96e9-0eef-48da-950f-4453d7b9206c",
   "metadata": {},
   "outputs": [
    {
     "data": {
      "text/plain": [
       "[[1, 5], [6, 22], [11, 15]]"
      ]
     },
     "execution_count": 82,
     "metadata": {},
     "output_type": "execute_result"
    }
   ],
   "source": [
    "c"
   ]
  },
  {
   "cell_type": "code",
   "execution_count": 73,
   "id": "c735e43f-6fe0-4e4d-b6c5-4c88385bcf11",
   "metadata": {},
   "outputs": [
    {
     "data": {
      "text/plain": [
       "0"
      ]
     },
     "execution_count": 73,
     "metadata": {},
     "output_type": "execute_result"
    }
   ],
   "source": [
    "a[2][1]"
   ]
  },
  {
   "cell_type": "code",
   "execution_count": 90,
   "id": "92947ef8-f9d5-4401-a731-1c294a587cd9",
   "metadata": {},
   "outputs": [],
   "source": [
    "a[1][1] = 25"
   ]
  },
  {
   "cell_type": "code",
   "execution_count": 91,
   "id": "73f58238-e5c9-4231-bf55-d8228900ba7d",
   "metadata": {},
   "outputs": [
    {
     "data": {
      "text/plain": [
       "[[0, 25], [0, 25], [0, 25]]"
      ]
     },
     "execution_count": 91,
     "metadata": {},
     "output_type": "execute_result"
    }
   ],
   "source": [
    "a"
   ]
  },
  {
   "cell_type": "code",
   "execution_count": null,
   "id": "518cc34f",
   "metadata": {},
   "outputs": [],
   "source": [
    "# Create a variable-sized 2d list\n",
    "rows = 3\n",
    "cols = 2\n",
    "\n",
    "a = []\n",
    "for row in range(rows):\n",
    "    a += [[0]*cols]\n",
    "\n",
    "print(\"This IS ok.  First:\")\n",
    "print(\"   a =\", a)\n",
    "\n",
    "a[0][0] = 42\n",
    "print(\"And now see what happens after a[0][0]=42\")\n",
    "print(\"   a =\", a)"
   ]
  },
  {
   "cell_type": "code",
   "execution_count": null,
   "id": "4a728690",
   "metadata": {},
   "outputs": [],
   "source": [
    "rows = 3\n",
    "cols = 2\n",
    "\n",
    "#This is what's called a \"list comprehension\"\n",
    "a = [ ([0] * cols) for row in range(rows) ]\n",
    "\n",
    "print(\"This IS ok.  First:\")\n",
    "print(\"   a =\", a)\n",
    "\n",
    "a[0][0] = 42\n",
    "print(\"And now see what happens after a[0][0]=42\")\n",
    "print(\"   a =\", a)"
   ]
  },
  {
   "cell_type": "code",
   "execution_count": 116,
   "id": "e7edb2ee-e15f-4bc3-9208-f9d53602521d",
   "metadata": {},
   "outputs": [
    {
     "data": {
      "text/plain": [
       "[[0, 0], [0, 0], [0, 0]]"
      ]
     },
     "execution_count": 116,
     "metadata": {},
     "output_type": "execute_result"
    }
   ],
   "source": [
    "a = [([0] * 2) for row in range(0,3)]\n",
    "a"
   ]
  },
  {
   "cell_type": "code",
   "execution_count": 113,
   "id": "509f7855-b98b-48fe-a153-633a6841686e",
   "metadata": {},
   "outputs": [],
   "source": [
    "b= [0]"
   ]
  },
  {
   "cell_type": "code",
   "execution_count": 114,
   "id": "fcc38705-6711-4a09-a593-1845c848a25e",
   "metadata": {},
   "outputs": [],
   "source": [
    "a[1][0] = 43"
   ]
  },
  {
   "cell_type": "code",
   "execution_count": 115,
   "id": "70f8f645-2087-4c2c-94fe-05ad9763f669",
   "metadata": {},
   "outputs": [
    {
     "data": {
      "text/plain": [
       "[[0, 0], [43, 0], [0, 0]]"
      ]
     },
     "execution_count": 115,
     "metadata": {},
     "output_type": "execute_result"
    }
   ],
   "source": [
    "a"
   ]
  },
  {
   "cell_type": "code",
   "execution_count": 117,
   "id": "3e45edbd",
   "metadata": {},
   "outputs": [
    {
     "name": "stdout",
     "output_type": "stream",
     "text": [
      "This IS ok.  At first:\n",
      "   a = [[0, 0], [0, 0], [0, 0]]\n",
      "And now see what happens after a[0][0]=42\n",
      "   a = [[42, 0], [0, 0], [0, 0]]\n"
     ]
    }
   ],
   "source": [
    "def make2dList(rows, cols):\n",
    "    return [ ([0] * cols) for row in range(rows) ]\n",
    "\n",
    "\n",
    "\n",
    "rows = 3\n",
    "cols = 2\n",
    "\n",
    "a = make2dList(rows, cols)\n",
    "\n",
    "print(\"This IS ok.  At first:\")\n",
    "print(\"   a =\", a)\n",
    "\n",
    "a[0][0] = 42\n",
    "print(\"And now see what happens after a[0][0]=42\")\n",
    "print(\"   a =\", a)"
   ]
  },
  {
   "cell_type": "code",
   "execution_count": 118,
   "id": "0c1af295",
   "metadata": {},
   "outputs": [
    {
     "name": "stdout",
     "output_type": "stream",
     "text": [
      "a =  [[2, 3, 5], [1, 4, 7]]\n",
      "rows = 2\n",
      "cols = 3\n"
     ]
    }
   ],
   "source": [
    "# Create an \"arbitrary\" 2d List\n",
    "a = [ [ 2, 3, 5] , [ 1, 4, 7 ] ]\n",
    "print(\"a = \", a)\n",
    "\n",
    "# Now find its dimensions\n",
    "rows = len(a) #-> 2\n",
    "cols = len(a[0]) #-> 3\n",
    "print(\"rows =\", rows)\n",
    "print(\"cols =\", cols)"
   ]
  },
  {
   "cell_type": "code",
   "execution_count": 119,
   "id": "ce24b3ac",
   "metadata": {},
   "outputs": [
    {
     "name": "stdout",
     "output_type": "stream",
     "text": [
      "At first...\n",
      "   a = [[1, 2, 3], [4, 5, 6]]\n",
      "   b = [[1, 2, 3], [4, 5, 6]]\n",
      "But after a[0][0] = 9\n",
      "   a = [[9, 2, 3], [4, 5, 6]]\n",
      "   b = [[9, 2, 3], [4, 5, 6]]\n"
     ]
    }
   ],
   "source": [
    "import copy\n",
    "\n",
    "# Create a 2d list\n",
    "a = [ [ 1, 2, 3 ] , [ 4, 5, 6 ] ]\n",
    "\n",
    "# Try to copy it\n",
    "b = copy.copy(a) # Error:  creates shallow copy\n",
    "\n",
    "# At first, things seem ok\n",
    "print(\"At first...\")\n",
    "print(\"   a =\", a)\n",
    "print(\"   b =\", b)\n",
    "\n",
    "# Now modify a[0][0]\n",
    "a[0][0] = 9\n",
    "print(\"But after a[0][0] = 9\")\n",
    "print(\"   a =\", a)\n",
    "print(\"   b =\", b)"
   ]
  },
  {
   "cell_type": "code",
   "execution_count": 134,
   "id": "92c8f328-41f9-48fd-acbc-a819e024b1f8",
   "metadata": {},
   "outputs": [
    {
     "data": {
      "text/plain": [
       "[37]"
      ]
     },
     "execution_count": 134,
     "metadata": {},
     "output_type": "execute_result"
    }
   ],
   "source": [
    "cristiano = [37]\n",
    "cr7 = cristiano\n",
    "cr7"
   ]
  },
  {
   "cell_type": "code",
   "execution_count": 135,
   "id": "89da49a4-5173-4192-b7f6-e2b11ea0ad1c",
   "metadata": {},
   "outputs": [
    {
     "data": {
      "text/plain": [
       "[70]"
      ]
     },
     "execution_count": 135,
     "metadata": {},
     "output_type": "execute_result"
    }
   ],
   "source": [
    "cristiano[0] = 70\n",
    "cristiano"
   ]
  },
  {
   "cell_type": "code",
   "execution_count": 136,
   "id": "3f0c464b-1da5-480e-8554-cb7754e3cb62",
   "metadata": {},
   "outputs": [
    {
     "data": {
      "text/plain": [
       "[70]"
      ]
     },
     "execution_count": 136,
     "metadata": {},
     "output_type": "execute_result"
    }
   ],
   "source": [
    "cr7"
   ]
  },
  {
   "cell_type": "code",
   "execution_count": null,
   "id": "19a479c1-5733-4482-abaa-d57ff2102904",
   "metadata": {},
   "outputs": [],
   "source": []
  },
  {
   "cell_type": "code",
   "execution_count": 137,
   "id": "e0ce473d",
   "metadata": {},
   "outputs": [
    {
     "name": "stdout",
     "output_type": "stream",
     "text": [
      "At first...\n",
      "   a = [[1, 2, 3], [4, 5, 6]]\n",
      "   b = [[1, 2, 3], [4, 5, 6]]\n",
      "And after a[0][0] = 9\n",
      "   a = [[9, 2, 3], [4, 5, 6]]\n",
      "   b = [[1, 2, 3], [4, 5, 6]]\n"
     ]
    }
   ],
   "source": [
    "import copy\n",
    "\n",
    "# Create a 2d list\n",
    "a = [ [ 1, 2, 3 ] , [ 4, 5, 6 ] ]\n",
    "\n",
    "# Try to copy it\n",
    "b = copy.deepcopy(a) # Correct!  b = copy a but indendent\n",
    "\n",
    "# At first, things seem ok\n",
    "print(\"At first...\")\n",
    "print(\"   a =\", a)\n",
    "print(\"   b =\", b)\n",
    "\n",
    "# Now modify a[0][0]\n",
    "a[0][0] = 9\n",
    "print(\"And after a[0][0] = 9\")\n",
    "print(\"   a =\", a)\n",
    "print(\"   b =\", b)"
   ]
  },
  {
   "cell_type": "code",
   "execution_count": 138,
   "id": "d14ddac4",
   "metadata": {},
   "outputs": [
    {
     "name": "stdout",
     "output_type": "stream",
     "text": [
      "[[42, 0], [42, 0], [42, 0]]\n",
      "[[42, 0], [42, 0], [42, 0]]\n"
     ]
    }
   ],
   "source": [
    "a = [ [0]*2 ] * 3 # makes 3 shallow copies of (aliases of) the same row\n",
    "a[0][0] = 42  # appears to modify all 3 rows\n",
    "print(a)      # prints [[42, 0], [42, 0], [42, 0]]\n",
    "\n",
    "# now do it again with a deepcopy\n",
    "\n",
    "import copy\n",
    "a = [[0]*2]*3        # makes 3 shallow copies of the same row\n",
    "a = copy.deepcopy(a) # meant to make each row distinct\n",
    "a[0][0] = 42         # so we hope this only modifies first row\n",
    "print(a)             # STILL prints [[42, 0], [42, 0], [42, 0]]\n",
    "\n",
    "# deepcopy preserves any already-existing aliases perfectly!\n",
    "# best answer: don't create aliases in the first place, unless you want them."
   ]
  },
  {
   "cell_type": "code",
   "execution_count": 141,
   "id": "b856b22d-03bd-4dd1-a317-68ece7db4c5f",
   "metadata": {},
   "outputs": [
    {
     "data": {
      "text/plain": [
       "True"
      ]
     },
     "execution_count": 141,
     "metadata": {},
     "output_type": "execute_result"
    }
   ],
   "source": [
    "a  = ['Hello']\n",
    "isinstance(a, list)"
   ]
  },
  {
   "cell_type": "code",
   "execution_count": null,
   "id": "c13c16c4-cbe4-40cd-8c2b-742918ba3498",
   "metadata": {},
   "outputs": [],
   "source": [
    "a = (1,2)"
   ]
  },
  {
   "cell_type": "code",
   "execution_count": 149,
   "id": "b0142d6b",
   "metadata": {},
   "outputs": [
    {
     "name": "stdout",
     "output_type": "stream",
     "text": [
      "[[0, 0], [0, 0], [0, 0]] Here is A in original\n",
      "type of a is <class 'list'>\n",
      "Type of a here is <class 'list'>\n",
      "type of a is <class 'list'>\n",
      "Type of a here is <class 'list'>\n",
      "type of a is <class 'int'>\n",
      "We are Copying 0 With type <class 'int'>\n",
      "type of a is <class 'int'>\n",
      "We are Copying 0 With type <class 'int'>\n",
      "[0, 0] Here is the new A\n",
      "type of a is <class 'list'>\n",
      "Type of a here is <class 'list'>\n",
      "type of a is <class 'int'>\n",
      "We are Copying 0 With type <class 'int'>\n",
      "type of a is <class 'int'>\n",
      "We are Copying 0 With type <class 'int'>\n",
      "[0, 0] Here is the new A\n",
      "type of a is <class 'list'>\n",
      "Type of a here is <class 'list'>\n",
      "type of a is <class 'int'>\n",
      "We are Copying 0 With type <class 'int'>\n",
      "type of a is <class 'int'>\n",
      "We are Copying 0 With type <class 'int'>\n",
      "[0, 0] Here is the new A\n",
      "[[0, 0], [0, 0], [0, 0]] Here is the new A\n",
      "[[42, 0], [0, 0], [0, 0]]\n"
     ]
    }
   ],
   "source": [
    "# Advanced: now one more time with a simple deepcopy alternative that does\n",
    "# what we thought deepcopy did...\n",
    "# NOTE: this uses recursion. We'll go over how that works in the future.\n",
    "\n",
    "import copy\n",
    "\n",
    "\n",
    "a= [[0, 0], [0, 0], [0, 0]]\n",
    "def myDeepCopy(a):\n",
    "    print('type of a is', type(a))\n",
    "    if (isinstance(a, list) or isinstance(a, tuple)):\n",
    "        print('Type of a here is' , type(a))\n",
    "        a =  [myDeepCopy(element) for element in a] #->\n",
    "        print(a, 'Here is the new A')\n",
    "        return a\n",
    "    else:\n",
    "        print('We are Copying', a, 'With type' ,type(a))\n",
    "        return copy.copy(a)\n",
    "\n",
    "a = [[0]*2]*3\n",
    "print(a, 'Here is A in original')# makes 3 shallow copies of the same row\n",
    "a = myDeepCopy(a) # once again, meant to make each row distinct\n",
    "a[0][0] = 42      # so we hope this only modifies first row\n",
    "print(a)          # finally, prints [[42, 0], [0, 0], [0, 0]]\n",
    "\n",
    "# now all the aliases are gone!"
   ]
  },
  {
   "cell_type": "code",
   "execution_count": 154,
   "id": "54cc3a2e",
   "metadata": {},
   "outputs": [
    {
     "name": "stdout",
     "output_type": "stream",
     "text": [
      "Row Index 0\n",
      "Cols Index 0\n",
      "Cols Index 1\n",
      "Cols Index 2\n",
      "Row Index 1\n",
      "Cols Index 0\n",
      "Cols Index 1\n",
      "Cols Index 2\n",
      "[ [ %2s\n",
      " 1, %2s\n",
      " 2, %2s\n",
      " 3 ]\n",
      "  [ %2s\n",
      " 4, %2s\n",
      " 5, %2s\n",
      "67 ]]\n"
     ]
    }
   ],
   "source": [
    "# Helper function for print2dList.\n",
    "# This finds the maximum length of the string\n",
    "# representation of any item in the 2d list\n",
    "a = [[0] * 3] * 2\n",
    "a = [[12,0,0],[1000,0,0]] \n",
    "var = \"Python\"\n",
    "len(var)\n",
    "\n",
    "def maxItemLength(a):\n",
    "    maxLen = 0\n",
    "    rows = len(a) #-> 2\n",
    "    cols = len(a[0]) # -> 3\n",
    "    for row in range(rows):\n",
    "        print('Row Index' , row)\n",
    "        for col in range(cols):\n",
    "            print('Cols Index', col)\n",
    "            maxLen = max(maxLen, len(str(a[row][col])))\n",
    "    \n",
    "    return maxLen\n",
    "\n",
    "\n",
    "# Because Python prints 2d lists on one row,\n",
    "# we might want to write our own function\n",
    "# that prints 2d lists a bit nicer.\n",
    "def print2dList(a):\n",
    "    if (a == []):\n",
    "        # So we don't crash accessing a[0]\n",
    "        print([])\n",
    "        return\n",
    "    rows = len(a)\n",
    "    cols = len(a[0])\n",
    "    fieldWidth = maxItemLength(a)\n",
    "    print(\"[ \", end=\"\")\n",
    "    for row in range(rows):\n",
    "        if (row > 0): \n",
    "            print(\"\\n  \", end=\"\")\n",
    "        print(\"[ \", end=\"\")\n",
    "        for col in range(cols):\n",
    "            if (col > 0): \n",
    "                print(\", \", end=\"\")\n",
    "            # The next 2 lines print a[row][col] with the given fieldWidth\n",
    "            formatSpec = \"%\" + str(fieldWidth) + \"s\"  # %1s\n",
    "            print(formatSpec)\n",
    "            print(formatSpec % str(a[row][col]), end=\"\")\n",
    "        print(\" ]\", end=\"\")\n",
    "    print(\"]\")\n",
    "\n",
    "# Let's give the new function a try!\n",
    "a = [ [ 1, 2, 3 ] , [ 4, 5, 67 ] ]\n",
    "print2dList(a)"
   ]
  },
  {
   "cell_type": "code",
   "execution_count": null,
   "id": "ccccf86c",
   "metadata": {},
   "outputs": [],
   "source": [
    "# Create an \"arbitrary\" 2d List\n",
    "a = [ [ 2, 3, 5] , [ 1, 4, 7 ] ]\n",
    "print(\"Before: a =\", a)\n",
    "\n",
    "# Now find its dimensions\n",
    "rows = len(a)\n",
    "cols = len(a[0])\n",
    "\n",
    "# And now loop over every element\n",
    "# Here, we'll add one to each element,\n",
    "# just to make a change we can easily see\n",
    "for row in range(rows):\n",
    "    for col in range(cols):\n",
    "        # This code will be run rows*cols times, once for each\n",
    "        # element in the 2d list\n",
    "        a[row][col] += 1\n",
    "\n",
    "# Finally, print the results\n",
    "print(\"After:  a =\", a)"
   ]
  },
  {
   "cell_type": "code",
   "execution_count": null,
   "id": "3488b6ef",
   "metadata": {},
   "outputs": [],
   "source": [
    "# alias (not a copy! no new list created)\n",
    "a = [ [ 1, 2, 3 ] , [ 4, 5, 6 ] ]\n",
    "row = 1\n",
    "rowList = a[row]\n",
    "print(rowList) #_> "
   ]
  },
  {
   "cell_type": "code",
   "execution_count": 158,
   "id": "57c62a64",
   "metadata": {},
   "outputs": [
    {
     "name": "stdout",
     "output_type": "stream",
     "text": [
      "[]\n",
      "[2] #\n",
      "[2]\n",
      "[2]\n",
      "[5] #\n",
      "[2, 5]\n",
      "[2, 5]\n"
     ]
    }
   ],
   "source": [
    "# copy (not an alias! new list created)\n",
    "a = [ [ 1, 2, 3 ] , [ 4, 5, 6 ] ]\n",
    "col = 1\n",
    "colList = [ ]\n",
    "for row in range(len(a)):\n",
    "    print(colList)\n",
    "    print([ a[row][col] ], \"#\")\n",
    "    colList += [ a[row][col] ]\n",
    "print(colList)"
   ]
  },
  {
   "cell_type": "code",
   "execution_count": null,
   "id": "f7e11500",
   "metadata": {},
   "outputs": [],
   "source": [
    "# still a copy, but cleaner with a list comprehension!\n",
    "a = [ [ 1, 2, 3 ] , [ 4, 5, 6 ] ]\n",
    "col = 1\n",
    "colList = [ a[i][col] for i in range(len(a)) ]\n",
    "print(colList)"
   ]
  },
  {
   "cell_type": "code",
   "execution_count": null,
   "id": "d12d39fc",
   "metadata": {},
   "outputs": [],
   "source": [
    "# 2d lists do not have to be rectangular\n",
    "a = [ [ 1, 2, 3 ] ,\n",
    "      [ 4, 5 ],\n",
    "      [ 6 ],\n",
    "      [ 7, 8, 9, 10 ] ]\n",
    "\n",
    "rows = len(a)\n",
    "for row in range(rows):\n",
    "    cols = len(a[row]) # now cols depends on each row\n",
    "    print(\"Row\", row, \"has\", cols, \"columns: \", end=\"\")\n",
    "    for col in range(cols):\n",
    "        print(a[row][col], \" \", end=\"\")\n",
    "    print()"
   ]
  },
  {
   "cell_type": "code",
   "execution_count": null,
   "id": "100a896b",
   "metadata": {},
   "outputs": [],
   "source": [
    "# 2d lists do not really exist in Python.\n",
    "# They are just lists that happen to contain other lists as elements.\n",
    "# And so this can be done for \"3d lists\", or even \"4d\" or higher-dimensional lists.\n",
    "# And these can also be non-rectangular, of course!\n",
    "\n",
    "a = [ [ [ 1, 2 ],\n",
    "        [ 3, 4 ] ],\n",
    "      [ [ 5, 6, 7 ],\n",
    "        [ 8, 9 ] ],\n",
    "      [ [ 10 ] ] ]\n",
    "\n",
    "for i in range(len(a)):\n",
    "    for j in range(len(a[i])):\n",
    "        for k in range(len(a[i][j])):\n",
    "            print(\"a[%d][%d][%d] = %d\" % (i, j, k, a[i][j][k]))"
   ]
  },
  {
   "cell_type": "code",
   "execution_count": 159,
   "id": "73ff8fbf-30c1-4725-9985-696482f18f09",
   "metadata": {},
   "outputs": [],
   "source": [
    "a = [ \n",
    "        [ \n",
    "            [ 1, 2 ], [ 3, 4 ] \n",
    "        ],\n",
    "        [ \n",
    "            [ 5, 6, 7 ],\n",
    "            [ 8, 9 ] \n",
    "        ],\n",
    "        [ \n",
    "            [ 10 ] \n",
    "        ] \n",
    "]"
   ]
  },
  {
   "cell_type": "code",
   "execution_count": 162,
   "id": "c61e9046-4c44-4cb8-9466-a58c90747175",
   "metadata": {},
   "outputs": [
    {
     "data": {
      "text/plain": [
       "4"
      ]
     },
     "execution_count": 162,
     "metadata": {},
     "output_type": "execute_result"
    }
   ],
   "source": [
    "a[0][-1][1]"
   ]
  },
  {
   "cell_type": "code",
   "execution_count": null,
   "id": "66da6812-97ab-4f59-9e64-121364815e97",
   "metadata": {},
   "outputs": [],
   "source": []
  }
 ],
 "metadata": {
  "kernelspec": {
   "display_name": "Python 3 (ipykernel)",
   "language": "python",
   "name": "python3"
  },
  "language_info": {
   "codemirror_mode": {
    "name": "ipython",
    "version": 3
   },
   "file_extension": ".py",
   "mimetype": "text/x-python",
   "name": "python",
   "nbconvert_exporter": "python",
   "pygments_lexer": "ipython3",
   "version": "3.11.8"
  }
 },
 "nbformat": 4,
 "nbformat_minor": 5
}
