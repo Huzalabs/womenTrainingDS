{
 "cells": [
  {
   "cell_type": "code",
   "execution_count": null,
   "id": "4c213f4c-cd37-428e-bf85-aca9bfc10e3b",
   "metadata": {},
   "outputs": [],
   "source": [
    "s = set([2,3,5])\n",
    "print(3 in s)          # prints True\n",
    "print(4 in s)          # prints False\n",
    "for x in range(7):\n",
    "    if (x not in s):\n",
    "        print(x)     "
   ]
  },
  {
   "cell_type": "code",
   "execution_count": null,
   "id": "3e3ce2a3-473c-4eff-808e-e961c05d7e7e",
   "metadata": {},
   "outputs": [],
   "source": [
    "a = [2,4,5,5,6]\n",
    "b =set(a) #-> {2,4,5,6}"
   ]
  },
  {
   "cell_type": "code",
   "execution_count": 3,
   "id": "e6f9f129-1956-4a07-89e5-fb7f36d3eb5b",
   "metadata": {},
   "outputs": [
    {
     "data": {
      "text/plain": [
       "{1, 3, 5, 6, 7, 8}"
      ]
     },
     "execution_count": 3,
     "metadata": {},
     "output_type": "execute_result"
    }
   ],
   "source": [
    "# def SET(a : list):\n",
    "#     output = []\n",
    "#     for item in a:\n",
    "#         if item not in output:\n",
    "#             output.append(item)\n",
    "#     return output   \n",
    "\n",
    "a = [1,1,3,5,6,3,7,8]\n",
    "b = set(a)\n",
    "b # [1,3,5,6,7,8]"
   ]
  },
  {
   "cell_type": "code",
   "execution_count": 5,
   "id": "8f19c0bf-ece5-47b6-b7fa-c276fac4117f",
   "metadata": {},
   "outputs": [
    {
     "data": {
      "text/plain": [
       "6"
      ]
     },
     "execution_count": 5,
     "metadata": {},
     "output_type": "execute_result"
    }
   ],
   "source": [
    "len(b)"
   ]
  },
  {
   "cell_type": "code",
   "execution_count": 6,
   "id": "a4b153c1-870d-4412-b85b-445ee5e6158b",
   "metadata": {},
   "outputs": [
    {
     "name": "stdout",
     "output_type": "stream",
     "text": [
      "set()\n"
     ]
    }
   ],
   "source": [
    "s = set()\n",
    "print(s)   "
   ]
  },
  {
   "cell_type": "code",
   "execution_count": null,
   "id": "47b3e239-955d-4d69-b21e-eea4923d9f6b",
   "metadata": {},
   "outputs": [],
   "source": [
    "s = set([\"cat\", \"cow\", \"dog\", ])\n",
    "print(s)     # prints {'cow', 'dog', 'cat'}"
   ]
  },
  {
   "cell_type": "code",
   "execution_count": 8,
   "id": "fbfc773c-298e-46ea-bdf4-875f0a8973f7",
   "metadata": {},
   "outputs": [
    {
     "name": "stdout",
     "output_type": "stream",
     "text": [
      "{2, 3, 5}\n"
     ]
    }
   ],
   "source": [
    "s = {2 ,3,5 }\n",
    "print(s)    # prints { 2, 3, 5 }"
   ]
  },
  {
   "cell_type": "code",
   "execution_count": null,
   "id": "47a8b1dd-ddc2-47f8-b9eb-ff31f8fa8b56",
   "metadata": {},
   "outputs": [],
   "source": [
    "s = {}\n",
    "print(type(s) == set)  # False!\n",
    "print(type(s))         # This is a dict (we'll learn about those soon)"
   ]
  },
  {
   "cell_type": "code",
   "execution_count": null,
   "id": "800dd411-ea24-4fd8-8dda-19389c54e398",
   "metadata": {},
   "outputs": [],
   "source": [
    "# Sets can do many of the same things as lists and tuples...\n",
    "s = set([1, 2, 3])\n",
    "\n",
    "print(len(s)) # prints 3 -> \n",
    "\n",
    "print(2 in s) # prints True\n",
    "print(4 in s) # prints False\n",
    "print(4 not in s) # prints True\n",
    "print(2 not in s) # prints False\n",
    "\n",
    "#append, insert, extend\n",
    "\n",
    "s.add(7)      # use add instead of append to add an element to a set\n",
    "s.remove(3)   # removes 3 from the set; raises an error if 3 is not in s\n",
    "\n",
    "for item in s:\n",
    "    print(item) # we can loop over the items in s"
   ]
  },
  {
   "cell_type": "code",
   "execution_count": 3,
   "id": "b8d80b74-5893-4021-9c94-2d1616999cd6",
   "metadata": {},
   "outputs": [
    {
     "data": {
      "text/plain": [
       "{2, 4, 8, 9}"
      ]
     },
     "execution_count": 3,
     "metadata": {},
     "output_type": "execute_result"
    }
   ],
   "source": [
    "s = set([2,4,8,9])\n",
    "s"
   ]
  },
  {
   "cell_type": "code",
   "execution_count": null,
   "id": "7a4d8d63-48bd-436b-903a-39e9cb2cb54b",
   "metadata": {},
   "outputs": [],
   "source": [
    "# Elements may be arranged in a different order than they are provided,\n",
    "# and we cannot index into the set.\n",
    "s = set([2,4,8])\n",
    "print(s)          # prints {8, 2, 4} in standard Python (though not in brython)\n",
    "for element in s: # prints 8, 2, 4\n",
    "    print(element)"
   ]
  },
  {
   "cell_type": "code",
   "execution_count": 22,
   "id": "11a9db44-46e7-4575-a7fa-204d2818edf6",
   "metadata": {},
   "outputs": [],
   "source": [
    "list_a = []\n",
    "set_a = {}\n",
    "tupple_a = (2,3,4)\n",
    "dictionary = {\n",
    "    1 :'val',\n",
    "    2 : 'val'\n",
    "}\n"
   ]
  },
  {
   "cell_type": "code",
   "execution_count": 13,
   "id": "934846b3-bbed-4939-8b0b-bff15019b6af",
   "metadata": {},
   "outputs": [
    {
     "name": "stdout",
     "output_type": "stream",
     "text": [
      "{2, 7.0, 'hello'}\n",
      "3\n"
     ]
    }
   ],
   "source": [
    "# Sets can also only hold one of each unique element. Duplicates are removed.\n",
    "s = set([2,2,2, 'hello', 7.0])\n",
    "print(s)          # prints {2}\n",
    "print(len(s))     # prints 1"
   ]
  },
  {
   "cell_type": "code",
   "execution_count": null,
   "id": "475a0726-235f-4a24-aee9-b4eaef8cd83c",
   "metadata": {},
   "outputs": [],
   "source": [
    "# Sets can only hold elements that are immutable (cannot be changed),\n",
    "# such as numbers, booleans, strings, and tuples\n",
    "a = [\"lists\", \"are\", \"mutable\"]\n",
    "s = set([a])       # TypeError: unhashable type: 'list'\n",
    "print(s) #-> {'lists'  , 'are' , 'mutable'}"
   ]
  },
  {
   "cell_type": "code",
   "execution_count": 1,
   "id": "11e68b18-cb4b-49b5-937e-846510323904",
   "metadata": {},
   "outputs": [],
   "source": [
    "items = [\"sets\", \"are\", \"mutable\", \"too\"]\n",
    "s1 = set(items)\n",
    "#s2 = set([s1])     # TypeError: unhashable type: 'set'\n",
    "#print(s2)"
   ]
  },
  {
   "cell_type": "code",
   "execution_count": null,
   "id": "4ce45580-bef3-4f5d-9203-f0f4c8622420",
   "metadata": {},
   "outputs": [],
   "source": [
    "s1 = set([])"
   ]
  }
 ],
 "metadata": {
  "kernelspec": {
   "display_name": "Python 3 (ipykernel)",
   "language": "python",
   "name": "python3"
  },
  "language_info": {
   "codemirror_mode": {
    "name": "ipython",
    "version": 3
   },
   "file_extension": ".py",
   "mimetype": "text/x-python",
   "name": "python",
   "nbconvert_exporter": "python",
   "pygments_lexer": "ipython3",
   "version": "3.11.8"
  }
 },
 "nbformat": 4,
 "nbformat_minor": 5
}
