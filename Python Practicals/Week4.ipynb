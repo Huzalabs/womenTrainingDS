{
 "cells": [
  {
   "cell_type": "markdown",
   "id": "c2556cb4",
   "metadata": {},
   "source": [
    "# 1. Creating List"
   ]
  },
  {
   "cell_type": "markdown",
   "id": "999d1d19",
   "metadata": {},
   "source": [
    "## Empty List"
   ]
  },
  {
   "cell_type": "code",
   "execution_count": null,
   "id": "e4e5ee89",
   "metadata": {},
   "outputs": [],
   "source": [
    "print(\"Two standard ways to create an empty list:\")\n",
    "a = [ ]\n",
    "b = list()\n",
    "\n",
    "print(type(a), len(a), a)\n",
    "print(type(b), len(b), b)\n",
    "print(a == b)"
   ]
  },
  {
   "cell_type": "markdown",
   "id": "c6c199b2",
   "metadata": {},
   "source": [
    "## List with one element"
   ]
  },
  {
   "cell_type": "code",
   "execution_count": null,
   "id": "9db5a1cc",
   "metadata": {},
   "outputs": [],
   "source": [
    "a = [ \"hello\" ]\n",
    "b = [ 42 ]\n",
    "\n",
    "print(type(a), len(a), a)\n",
    "print(type(b), len(b), b)\n",
    "print(a == b)"
   ]
  },
  {
   "cell_type": "markdown",
   "id": "42828fb1",
   "metadata": {},
   "source": [
    "## List with multiple elements"
   ]
  },
  {
   "cell_type": "code",
   "execution_count": null,
   "id": "fb7a1cfa",
   "metadata": {},
   "outputs": [],
   "source": [
    "a = [2, 3, 5, 7]\n",
    "b = list(range(5))\n",
    "c = [\"mixed types\", True, 42]\n",
    "\n",
    "print(type(a), len(a), a)\n",
    "print(type(b), len(b), b)\n",
    "print(type(c), len(c), c)"
   ]
  },
  {
   "cell_type": "markdown",
   "id": "66b21ce8",
   "metadata": {},
   "source": [
    "## Variable length list"
   ]
  },
  {
   "cell_type": "code",
   "execution_count": null,
   "id": "0a73ca5e",
   "metadata": {},
   "outputs": [],
   "source": [
    "n = 10\n",
    "a = [0] * n # creates a list with n 0s\n",
    "b = list(range(n))\n",
    "\n",
    "print(type(a), len(a), a)\n",
    "print(type(b), len(b), b)"
   ]
  },
  {
   "cell_type": "markdown",
   "id": "59c93d05",
   "metadata": {},
   "source": [
    "# 2. List Functions and Operations"
   ]
  },
  {
   "cell_type": "code",
   "execution_count": null,
   "id": "3707f879",
   "metadata": {},
   "outputs": [],
   "source": [
    "a = [ 2, 3, 5, 2 ]\n",
    "print(\"a = \", a)\n",
    "print(\"len =\", len(a))\n",
    "print(\"min =\", min(a))\n",
    "print(\"max =\", max(a))\n",
    "print(\"sum =\", sum(a))\n",
    "\n",
    "# Create some lists\n",
    "a = [ 2, 3, 5, 3, 7 ]\n",
    "b = [ 2, 3, 5, 3, 7 ]   # same as a\n",
    "c = [ 2, 3, 5, 3, 8 ]   # differs in last element\n",
    "d = [ 2, 3, 5 ]         # prefix of a\n",
    "\n",
    "print(\"a =\", a)\n",
    "print(\"b =\", b)\n",
    "print(\"c =\", c)\n",
    "print(\"d =\", d)\n",
    "\n",
    "print(\"------------------\")\n",
    "print(\"a == b\", (a == b))\n",
    "print(\"a == c\", (a == c))\n",
    "print(\"a != b\", (a != b))\n",
    "print(\"a != c\", (a != c))\n",
    "\n",
    "print(\"------------------\")\n",
    "print(\"a < c\", (a < c))\n",
    "print(\"a < d\", (a < d))"
   ]
  },
  {
   "cell_type": "markdown",
   "id": "39c7379c",
   "metadata": {},
   "source": [
    "# 3. Accessing Elements in a List(Indexing and slicing)"
   ]
  },
  {
   "cell_type": "code",
   "execution_count": null,
   "id": "58e9b25b",
   "metadata": {},
   "outputs": [],
   "source": [
    "# Indexing and slicing for lists works the same way as it did for strings!\n",
    "\n",
    "a = [2, 3, 5, 7, 11, 13]\n",
    "print(\"a        =\", a)\n",
    "\n",
    "# Access non-negative indexes\n",
    "print(\"a[0]     =\", a[0])\n",
    "print(\"a[2]     =\", a[2])\n",
    "\n",
    "# Access negative indexes\n",
    "print(\"a[-1]    =\", a[-1])\n",
    "print(\"a[-3]    =\", a[-3])\n",
    "\n",
    "# Access slices a[start:end:step]\n",
    "print(\"a[0:2]   =\", a[0:2])\n",
    "print(\"a[1:4]   =\", a[1:4])\n",
    "print(\"a[1:6:2] =\", a[1:6:2])"
   ]
  },
  {
   "cell_type": "markdown",
   "id": "7afd78fb",
   "metadata": {},
   "source": []
  },
  {
   "cell_type": "code",
   "execution_count": null,
   "id": "40e8a556",
   "metadata": {},
   "outputs": [],
   "source": [
    "# Create a list\n",
    "a = [ 2, 3, 5, 7 ]\n",
    "\n",
    "# Create an alias to the list\n",
    "b = a\n",
    "\n",
    "# We now have two references (aliases) to the SAME list\n",
    "a[0] = 42\n",
    "b[1] = 99\n",
    "print(a)\n",
    "print(b)"
   ]
  },
  {
   "cell_type": "markdown",
   "id": "7047c482",
   "metadata": {},
   "source": []
  },
  {
   "cell_type": "code",
   "execution_count": null,
   "id": "548c9e05",
   "metadata": {},
   "outputs": [],
   "source": [
    "def f(a):\n",
    "    a[0] = 42\n",
    "a = [2, 3, 5, 7]\n",
    "f(a)\n",
    "print(a)\n",
    "\n",
    "# Note that the parameter alias can still be broken by re-assigning the variable\n",
    "\n",
    "a = [3, 2, 1]\n",
    "\n",
    "def foo(a):\n",
    "     a[0] = 1\n",
    "     a = [5, 2, 0] # we break the alias here!\n",
    "     a[0] = 4\n",
    "\n",
    "foo(a)\n",
    "print(a)"
   ]
  },
  {
   "cell_type": "markdown",
   "id": "0bef79d1",
   "metadata": {},
   "source": []
  },
  {
   "cell_type": "code",
   "execution_count": null,
   "id": "59428500",
   "metadata": {},
   "outputs": [],
   "source": [
    "# Create a list\n",
    "a = [ 2, 3, 5, 7 ]\n",
    "\n",
    "# Create an alias to the list\n",
    "b = a\n",
    "\n",
    "# Create a different list with the same elements\n",
    "c = [ 2, 3, 5, 7 ]\n",
    "\n",
    "# a and b are references (aliases) to the SAME list\n",
    "# c is a reference to a different but EQUAL list\n",
    "\n",
    "print(\"initially:\")\n",
    "print(\"  a==b  :\", a==b)\n",
    "print(\"  a==c  :\", a==c)\n",
    "print(\"  a is b:\", a is b) # the is operation tells if two values are aliases, or basic datatypes\n",
    "print(\"  a is c:\", a is c)\n",
    "\n",
    "# Now changes to a also change b (the SAME list) but not c (a different list)\n",
    "a[0] = 42\n",
    "print(\"After changing a[0] to 42\")\n",
    "print(\"  a=\", a)\n",
    "print(\"  b=\", b)\n",
    "print(\"  c=\", c)\n",
    "print(\"  a==b  :\", a==b)\n",
    "print(\"  a==c  :\", a==c)\n",
    "print(\"  a is b:\", a is b)\n",
    "print(\"  a is c:\", a is c)"
   ]
  },
  {
   "cell_type": "markdown",
   "id": "86c140cc",
   "metadata": {},
   "source": []
  },
  {
   "cell_type": "code",
   "execution_count": null,
   "id": "aab9e95c",
   "metadata": {},
   "outputs": [],
   "source": [
    "# Because of aliasing, we have to be careful if we share a reference\n",
    "# to a list in the same way we might for number or a string,\n",
    "# by simply setting b = a, like so:\n",
    "\n",
    "import copy\n",
    "\n",
    "# Create a list\n",
    "a = [ 2, 3 ]\n",
    "\n",
    "# Try to copy it\n",
    "b = a             # Error!  Not a copy, but an alias\n",
    "c = copy.copy(a)  # Ok\n",
    "\n",
    "# At first, things seem ok\n",
    "print(\"At first...\")\n",
    "print(\"   a =\", a)\n",
    "print(\"   b =\", b)\n",
    "print(\"   c =\", c)\n",
    "\n",
    "# Now modify a[0]\n",
    "a[0] = 42\n",
    "print(\"But after a[0] = 42\")\n",
    "print(\"   a =\", a)\n",
    "print(\"   b =\", b)\n",
    "print(\"   c =\", c)"
   ]
  },
  {
   "cell_type": "code",
   "execution_count": null,
   "id": "9adb8a0c",
   "metadata": {},
   "outputs": [],
   "source": [
    "import copy\n",
    "\n",
    "a = [2, 3]\n",
    "\n",
    "b = copy.copy(a)\n",
    "c = a[:]\n",
    "d = a + [ ]\n",
    "e = list(a)\n",
    "\n",
    "a[0] = 42\n",
    "print(a, b, c, d, e)"
   ]
  },
  {
   "cell_type": "code",
   "execution_count": null,
   "id": "422f5d57",
   "metadata": {},
   "outputs": [],
   "source": [
    "# A destructive function is written to directly change the provided list\n",
    "# It does not need to return anything, as the caller can access the original list\n",
    "def fill(a, value):\n",
    "    for i in range(len(a)):\n",
    "        a[i] = value\n",
    "\n",
    "a = [1, 2, 3, 4, 5]\n",
    "print(\"At first, a =\", a)\n",
    "fill(a, 42)\n",
    "print(\"After fill(a, 42), a =\", a)"
   ]
  },
  {
   "cell_type": "code",
   "execution_count": null,
   "id": "26b484cd",
   "metadata": {},
   "outputs": [],
   "source": [
    "import copy\n",
    "\n",
    "## First, a quick primer on modifying lists ##\n",
    "## We'll talk about these more in a bit ##\n",
    "\n",
    "a = [1, 2, 3, 4]\n",
    "\n",
    "# .remove() DESTRUCTIVELY removes the given value from the list\n",
    "a.remove(2)\n",
    "print(a) # [1, 3, 4]\n",
    "\n",
    "# .append() DESTRUCTIVELY adds the given value to the end of the list\n",
    "a.append(70)\n",
    "print(a) # [1, 3, 4, 70]\n",
    "\n",
    "## Now, on to NON-DESTRUCTIVE functions! ##\n",
    "\n",
    "def destructiveRemoveAll(a, value):\n",
    "    while (value in a):\n",
    "        a.remove(value)\n",
    "\n",
    "def nonDestructiveRemoveAll(a, value):\n",
    "    # Typically, we write non-destructive functions by building a new list\n",
    "    # instead of changing the original\n",
    "    result = []\n",
    "    for element in a:\n",
    "        if (element != value):\n",
    "            result.append(element)\n",
    "    return result # non-destructive functions still need to return!\n",
    "\n",
    "def alternateNonDestructiveRemoveAll(a, value):\n",
    "    # We can write the same function by breaking the alias,\n",
    "    # then using the destructive approach\n",
    "    a = copy.copy(a)\n",
    "    destructiveRemoveAll(a, value)\n",
    "    return a\n",
    "\n",
    "a = [ 1, 2, 3, 4, 3, 2, 1 ]\n",
    "print(\"At first\")\n",
    "print(\"   a =\", a)\n",
    "\n",
    "destructiveRemoveAll(a, 2)\n",
    "print(\"After destructiveRemoveAll(a, 2)\")\n",
    "print(\"   a =\", a)\n",
    "\n",
    "b = nonDestructiveRemoveAll(a, 3)\n",
    "print(\"After b = nonDestructiveRemoveAll(a, 3)\")\n",
    "print(\"   a =\", a)\n",
    "print(\"   b =\", b)\n",
    "\n",
    "c = alternateNonDestructiveRemoveAll(a, 1)\n",
    "print(\"After c = alternateNonDestructiveRemoveAll(a, 1)\")\n",
    "print(\"   a =\", a)\n",
    "print(\"   c =\", c)"
   ]
  },
  {
   "cell_type": "code",
   "execution_count": null,
   "id": "736a6f78",
   "metadata": {},
   "outputs": [],
   "source": [
    "a = [ 2, 3, 5, 2, 6, 2, 2, 7 ]\n",
    "print(\"a      =\", a)\n",
    "print(\"2 in a =\", (2 in a))\n",
    "print(\"4 in a =\", (4 in a))"
   ]
  },
  {
   "cell_type": "code",
   "execution_count": null,
   "id": "7a55cfc9",
   "metadata": {},
   "outputs": [],
   "source": [
    "a = [ 2, 3, 5, 2, 6, 2, 2, 7 ]\n",
    "print(\"a          =\", a)\n",
    "print(\"2 not in a =\", (2 not in a))\n",
    "print(\"4 not in a =\", (4 not in a))"
   ]
  },
  {
   "cell_type": "code",
   "execution_count": null,
   "id": "3b445c9f",
   "metadata": {},
   "outputs": [],
   "source": [
    "a = [ 2, 3, 5, 2, 6, 2, 2, 7 ]\n",
    "print(\"a          =\", a)\n",
    "print(\"a.count(1) =\", a.count(1))\n",
    "print(\"a.count(2) =\", a.count(2))\n",
    "print(\"a.count(3) =\", a.count(3))"
   ]
  },
  {
   "cell_type": "code",
   "execution_count": null,
   "id": "33514428",
   "metadata": {},
   "outputs": [],
   "source": [
    "a = [ 2, 3, 5, 2, 6, 2, 2, 7 ]\n",
    "print(\"a            =\", a)\n",
    "print(\"a.index(6)   =\", a.index(6))\n",
    "print(\"a.index(2)   =\", a.index(2))\n",
    "print(\"a.index(2,1) =\", a.index(2,1))\n",
    "print(\"a.index(2,4) =\", a.index(2,4))"
   ]
  },
  {
   "cell_type": "code",
   "execution_count": null,
   "id": "475e067f",
   "metadata": {},
   "outputs": [],
   "source": [
    "a = [ 2, 3, 5, 2 ]\n",
    "print(\"a          =\", a)\n",
    "print(\"a.index(9) =\", a.index(9)) # crashes!\n",
    "print(\"This line will not run!\")"
   ]
  },
  {
   "cell_type": "code",
   "execution_count": null,
   "id": "583e1183",
   "metadata": {},
   "outputs": [],
   "source": [
    "a = [ 2, 3, 5, 2 ]\n",
    "print(\"a =\", a)\n",
    "if (9 in a):\n",
    "    print(\"a.index(9) =\", a.index(9))\n",
    "else:\n",
    "    print(\"9 not in\", a)\n",
    "print(\"This line will run now!\")"
   ]
  },
  {
   "cell_type": "code",
   "execution_count": null,
   "id": "e7181507",
   "metadata": {},
   "outputs": [],
   "source": [
    "a = [ 2, 3 ]\n",
    "a.append(7)\n",
    "print(a)"
   ]
  },
  {
   "cell_type": "code",
   "execution_count": null,
   "id": "3b0ad5ca",
   "metadata": {},
   "outputs": [],
   "source": [
    "a = [ 2, 3 ]\n",
    "a += [ 11, 13 ]\n",
    "print(a)\n",
    "a.extend([ 17, 19 ])\n",
    "print(a)"
   ]
  },
  {
   "cell_type": "code",
   "execution_count": null,
   "id": "7f865695",
   "metadata": {},
   "outputs": [],
   "source": [
    "a = [ 2, 3, 5, 7, 11 ]\n",
    "a.insert(2, 42)  # at index 2, insert 42\n",
    "print(a)"
   ]
  },
  {
   "cell_type": "code",
   "execution_count": null,
   "id": "7e45357e",
   "metadata": {},
   "outputs": [],
   "source": [
    "a = [ 2, 3 ]\n",
    "b = a + [ 13, 17 ]\n",
    "print(a)\n",
    "print(b)"
   ]
  },
  {
   "cell_type": "code",
   "execution_count": null,
   "id": "95c51436",
   "metadata": {},
   "outputs": [],
   "source": [
    "a = [ 2, 3 ]\n",
    "b = a[:2] + [5] + a[2:]\n",
    "print(a)\n",
    "print(b)"
   ]
  },
  {
   "cell_type": "code",
   "execution_count": null,
   "id": "1253c6ff",
   "metadata": {},
   "outputs": [],
   "source": [
    "print(\"Destructive:\")\n",
    "a = [ 2, 3 ]\n",
    "b = a\n",
    "a += [ 4 ]\n",
    "print(a)\n",
    "print(b)\n",
    "\n",
    "print(\"Non-Destructive:\")\n",
    "a = [ 2, 3 ]\n",
    "b = a\n",
    "a = a + [ 4 ] # this overwrites a, but not the alias of b\n",
    "print(a)\n",
    "print(b)"
   ]
  },
  {
   "cell_type": "code",
   "execution_count": null,
   "id": "9e4e1a5b",
   "metadata": {},
   "outputs": [],
   "source": [
    "a = [ 2, 3, 5, 3, 7, 6, 5, 11, 13 ]\n",
    "print(\"a =\", a)\n",
    "\n",
    "a.remove(5)\n",
    "print(\"After a.remove(5), a=\", a)\n",
    "\n",
    "a.remove(5)\n",
    "print(\"After another a.remove(5), a=\", a)"
   ]
  },
  {
   "cell_type": "code",
   "execution_count": null,
   "id": "f5639f1f",
   "metadata": {},
   "outputs": [],
   "source": [
    "a = [ 2, 3, 4, 5, 6, 7, 8 ]\n",
    "print(\"a =\", a)\n",
    "\n",
    "item = a.pop(3)\n",
    "print(\"After item = a.pop(3)\")\n",
    "print(\"   item =\", item)\n",
    "print(\"   a =\", a)\n",
    "\n",
    "item = a.pop(3)\n",
    "print(\"After another item = a.pop(3)\")\n",
    "print(\"   item =\", item)\n",
    "print(\"   a =\", a)\n",
    "\n",
    "# Remove last item with list.pop()\n",
    "item = a.pop()\n",
    "print(\"After item = a.pop()\")\n",
    "print(\"   item =\", item)\n",
    "print(\"   a =\", a)"
   ]
  },
  {
   "cell_type": "code",
   "execution_count": null,
   "id": "898b4fff",
   "metadata": {},
   "outputs": [],
   "source": [
    "a = [ 2, 3, 5, 3, 7, 5, 11, 13 ]\n",
    "print(\"a =\", a)\n",
    "\n",
    "b = a[:2] + a[3:]\n",
    "print(\"After b = a[:2] + a[3:]\")\n",
    "print(\"   a =\", a)\n",
    "print(\"   b =\", b)"
   ]
  },
  {
   "cell_type": "code",
   "execution_count": null,
   "id": "a1284a02",
   "metadata": {},
   "outputs": [],
   "source": [
    "a = [ 2, 3, 5, 7 ]\n",
    "print(\"Here are the items in a with their indexes:\")\n",
    "for index in range(len(a)):\n",
    "    print(\"a[\", index, \"] =\", a[index])"
   ]
  },
  {
   "cell_type": "code",
   "execution_count": null,
   "id": "e139dc73",
   "metadata": {},
   "outputs": [],
   "source": [
    "# Lists and strings are both iterable types.\n",
    "# This means that we can iterate (loop) over them directly!\n",
    "a = [ 2, 3, 5, 7 ]\n",
    "print(\"Here are the items in a:\")\n",
    "for item in a:\n",
    "    print(item)"
   ]
  },
  {
   "cell_type": "code",
   "execution_count": null,
   "id": "accce3dd",
   "metadata": {},
   "outputs": [],
   "source": [
    "# IMPORTANT: don't change a list inside a for loop! The indexes will behave unpredictably.\n",
    "# This isn't a problem for strings because they aren't mutable.\n",
    "a = [ 2, 3, 5, 3, 7 ]\n",
    "print(\"a =\", a)\n",
    "\n",
    "# Failed attempt to remove all the 3's\n",
    "for index in range(len(a)):\n",
    "    if (a[index] == 3):  # this eventually crashes!\n",
    "        a.pop(index)\n",
    "\n",
    "print(\"This line will not run!\")"
   ]
  },
  {
   "cell_type": "code",
   "execution_count": null,
   "id": "38a98b82",
   "metadata": {},
   "outputs": [],
   "source": [
    "# If we remove items in a for-each loop, the loop won't crash,\n",
    "# but it won't behave as we would expect either!\n",
    "\n",
    "a = [3, 3, 2, 3, 4]\n",
    "for item in a:       # this won't reach every item in the list!\n",
    "    if (item == 3):\n",
    "      a.remove(item)\n",
    "print(a) # should be [2, 4], but there's still a 3 in there!"
   ]
  },
  {
   "cell_type": "code",
   "execution_count": null,
   "id": "72213a18",
   "metadata": {},
   "outputs": [],
   "source": [
    "# Modify the list in a while loop instead of a for loop,\n",
    "# to control how indexes \n",
    "\n",
    "a = [ 2, 3, 5, 3, 7 ]\n",
    "print(\"a =\", a)\n",
    "\n",
    "# Successful attempt to remove all the 3's\n",
    "index = 0\n",
    "while (index < len(a)):\n",
    "    if (a[index] == 3):\n",
    "        a.pop(index)\n",
    "    else:\n",
    "        index += 1\n",
    "\n",
    "print(\"This line will run!\")\n",
    "print(\"And now a =\", a)"
   ]
  },
  {
   "cell_type": "code",
   "execution_count": null,
   "id": "8264fc6f",
   "metadata": {},
   "outputs": [],
   "source": [
    "a = [ 7, 2, 5, 3, 5, 11, 7 ]\n",
    "print(\"At first, a =\", a)\n",
    "a.sort()\n",
    "print(\"After a.sort(), a =\",a)\n",
    "\n",
    "a = [ 2, 3, 5, 7 ]\n",
    "print(\"Here are the items in reverse:\")\n",
    "a.reverse()\n",
    "for item in a:\n",
    "    print(item)\n",
    "print(a)"
   ]
  },
  {
   "cell_type": "code",
   "execution_count": null,
   "id": "680e95cc",
   "metadata": {},
   "outputs": [],
   "source": [
    "a = [ 7, 2, 5, 3, 5, 11, 7 ]\n",
    "print(\"At first\")\n",
    "print(\"   a =\", a)\n",
    "b = sorted(a)\n",
    "print(\"After b = sorted(a)\")\n",
    "print(\"   a =\", a)\n",
    "print(\"   b =\", b)\n",
    "\n",
    "a = [ 2, 3, 5, 7 ]\n",
    "print(\"Here are the items in reverse:\")\n",
    "for item in reversed(a):\n",
    "    print(item)\n",
    "print(a)"
   ]
  },
  {
   "cell_type": "code",
   "execution_count": null,
   "id": "434f4493",
   "metadata": {},
   "outputs": [],
   "source": [
    "t = (1, 2, 3)\n",
    "print(type(t), len(t), t)\n",
    "\n",
    "a = [1, 2, 3]\n",
    "t = tuple(a)\n",
    "print(type(t), len(t), t)"
   ]
  },
  {
   "cell_type": "code",
   "execution_count": null,
   "id": "80b4b57a",
   "metadata": {},
   "outputs": [],
   "source": [
    "t = (1, 2, 3)\n",
    "print(t[0])\n",
    "\n",
    "t[0] = 42    # crash!\n",
    "print(t[0])"
   ]
  },
  {
   "cell_type": "code",
   "execution_count": null,
   "id": "e24faa67",
   "metadata": {},
   "outputs": [],
   "source": [
    "(x, y) = (1, 2)\n",
    "print(x)\n",
    "print(y)\n",
    "\n",
    "# tuples are useful for swapping!\n",
    "(x, y) = (y, x)\n",
    "print(x)\n",
    "print(y)"
   ]
  },
  {
   "cell_type": "code",
   "execution_count": null,
   "id": "da1718ad",
   "metadata": {},
   "outputs": [],
   "source": [
    "t = (42)\n",
    "print(type(t), t*5)\n",
    "\n",
    "t = (42,) # use a comma to force the type\n",
    "print(type(t), t*5)"
   ]
  },
  {
   "cell_type": "code",
   "execution_count": null,
   "id": "e9556644",
   "metadata": {},
   "outputs": [],
   "source": [
    "# Long way\n",
    "a = []\n",
    "for i in range(10):\n",
    "    a.append(i)\n",
    "print(a)\n",
    "\n",
    "# Short way\n",
    "a = [i for i in range(10)]\n",
    "print(a)\n",
    "\n",
    "# We can also add conditionals at the end (but keep it simple!)\n",
    "a = [(i*100) for i in range(20) if i%5 == 0]\n",
    "print(a)"
   ]
  },
  {
   "cell_type": "code",
   "execution_count": null,
   "id": "8b3c2baa",
   "metadata": {},
   "outputs": [],
   "source": [
    "# use list(s) to convert a string to a list of characters\n",
    "a = list(\"wahoo!\")\n",
    "print(a)  # prints: ['w', 'a', 'h', 'o', 'o', '!']\n",
    "\n",
    "# use s1.split(s2) to convert a string to a list of strings delimited by s2\n",
    "a = \"How are you doing today?\".split(\" \")\n",
    "print(a) # prints ['How', 'are', 'you', 'doing', 'today?']\n",
    "\n",
    "# use \"\".join(a) to convert a list of characters to a single string\n",
    "print(\"\".join(a))  # prints: Howareyoudoingtoday?\n",
    "\n",
    "# \"\".join(a) also works on a list of strings (not just single characters)\n",
    "a = [\"parsley\", \"is\", \"gharsley\"] # by Ogden Nash!\n",
    "print(\"\".join(a))  # prints: parsleyisgharsley\n",
    "print(\" \".join(a)) # prints: parsley is gharsley"
   ]
  }
 ],
 "metadata": {
  "kernelspec": {
   "display_name": "Python 3 (ipykernel)",
   "language": "python",
   "name": "python3"
  },
  "language_info": {
   "codemirror_mode": {
    "name": "ipython",
    "version": 3
   },
   "file_extension": ".py",
   "mimetype": "text/x-python",
   "name": "python",
   "nbconvert_exporter": "python",
   "pygments_lexer": "ipython3",
   "version": "3.11.8"
  }
 },
 "nbformat": 4,
 "nbformat_minor": 5
}
