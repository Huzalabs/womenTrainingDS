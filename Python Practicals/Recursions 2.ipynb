{
 "cells": [
  {
   "cell_type": "code",
   "execution_count": null,
   "id": "7afd2c3c-1d37-466e-afc5-2104a07ad9ab",
   "metadata": {},
   "outputs": [],
   "source": [
    "import os\n",
    "def printFiles(path):\n",
    "    # Base Case: a file. Just print the path name.\n",
    "    if os.path.isfile(path):\n",
    "        print(path)\n",
    "    else:\n",
    "        # Recursive Case: a folder. Iterate through its files and folders.\n",
    "        for filename in os.listdir(path):\n",
    "            printFiles(path + '/' + filename)\n",
    "\n",
    "printFiles('sampleFiles')\n",
    "\n",
    "# Note: if you see .DS_Store files in the sampleFiles folders, or in the\n",
    "# output of your function (as often happens with Macs, in particular),\n",
    "# don't worry: this is just a metadata file and can be safely ignored."
   ]
  },
  {
   "cell_type": "code",
   "execution_count": null,
   "id": "89997145-e42f-4dfb-9694-45168140ab6f",
   "metadata": {},
   "outputs": [],
   "source": [
    "import os\n",
    "def listFiles(path):\n",
    "    if os.path.isfile(path):\n",
    "        # Base Case: return a list of just this file\n",
    "        return [ path ]\n",
    "    else:\n",
    "        # Recursive Case: create a list of all the recursive results from\n",
    "        # all the folders and files in this folder\n",
    "        files = [ ]\n",
    "        for filename in os.listdir(path):\n",
    "            files += listFiles(path + '/' + filename)\n",
    "        return files\n",
    "\n",
    "print(listFiles('sampleFiles'))"
   ]
  },
  {
   "cell_type": "code",
   "execution_count": null,
   "id": "e13a5894-d154-44d9-9e51-c131a3697d39",
   "metadata": {},
   "outputs": [],
   "source": [
    "import os\n",
    "def removeTempFiles(path, suffix='.DS_Store'):\n",
    "    if path.endswith(suffix):\n",
    "        print(f'Removing file: {path}')\n",
    "        os.remove(path)\n",
    "    elif os.path.isdir(path):\n",
    "        for filename in os.listdir(path):\n",
    "            removeTempFiles(path + '/' + filename, suffix)\n",
    "\n",
    "removeTempFiles('sampleFiles')\n",
    "# removeTempFiles('sampleFiles', '.txt') # be careful"
   ]
  }
 ],
 "metadata": {
  "kernelspec": {
   "display_name": "Python 3 (ipykernel)",
   "language": "python",
   "name": "python3"
  },
  "language_info": {
   "codemirror_mode": {
    "name": "ipython",
    "version": 3
   },
   "file_extension": ".py",
   "mimetype": "text/x-python",
   "name": "python",
   "nbconvert_exporter": "python",
   "pygments_lexer": "ipython3",
   "version": "3.11.8"
  }
 },
 "nbformat": 4,
 "nbformat_minor": 5
}
