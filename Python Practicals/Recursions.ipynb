{
 "cells": [
  {
   "cell_type": "code",
   "execution_count": 2,
   "id": "bf625366-c0ad-42ec-baf8-b9064700b390",
   "metadata": {},
   "outputs": [
    {
     "name": "stdout",
     "output_type": "stream",
     "text": [
      "5\n",
      "4\n",
      "3\n",
      "2\n",
      "1\n",
      "boo!\n"
     ]
    }
   ],
   "source": [
    "# What will this print?\n",
    "def f(n):\n",
    "    if n == 0:\n",
    "        return \"boo!\"\n",
    "    else:\n",
    "        print(n)\n",
    "        return f(n-1)\n",
    "\n",
    "print(f(5))"
   ]
  },
  {
   "cell_type": "markdown",
   "id": "fba2dd0a-ac88-4c8e-bcdd-f2ad45c97cb6",
   "metadata": {},
   "source": [
    "Recursion technically means that some function calls itself. However, fundamentally, using recursion is more than that -- it is a powerful way to think about problem solving.\n",
    "\n",
    "In recursion, we divide a function into two possible cases: a base case, which returns the result for a known small value, and a recursive case, which computes a result by calling the same function on a smaller value. In other words: we solve the problem by assuming it's already solved!"
   ]
  },
  {
   "cell_type": "code",
   "execution_count": 3,
   "id": "6394a555-5656-4acb-8222-492cfacf6e1f",
   "metadata": {},
   "outputs": [
    {
     "name": "stdout",
     "output_type": "stream",
     "text": [
      "Hello\n"
     ]
    }
   ],
   "source": [
    "def printf(text):\n",
    "    print(text)\n",
    "\n",
    "printf('Hello')"
   ]
  },
  {
   "cell_type": "code",
   "execution_count": 5,
   "id": "51e46fab-c784-4d96-b6b5-9a808f3728ea",
   "metadata": {},
   "outputs": [
    {
     "ename": "SyntaxError",
     "evalue": "invalid syntax. Perhaps you forgot a comma? (3560976451.py, line 2)",
     "output_type": "error",
     "traceback": [
      "\u001b[0;36m  Cell \u001b[0;32mIn[5], line 2\u001b[0;36m\u001b[0m\n\u001b[0;31m    if (this is the base case):\u001b[0m\n\u001b[0m        ^\u001b[0m\n\u001b[0;31mSyntaxError\u001b[0m\u001b[0;31m:\u001b[0m invalid syntax. Perhaps you forgot a comma?\n"
     ]
    }
   ],
   "source": [
    "def recursiveFunction():\n",
    "    if (this is the base case):\n",
    "        do something non-recursive\n",
    "    else:\n",
    "        do something recursive"
   ]
  },
  {
   "cell_type": "code",
   "execution_count": 6,
   "id": "b3da53b2-7c51-42f8-ada5-4a890041c215",
   "metadata": {},
   "outputs": [
    {
     "name": "stdout",
     "output_type": "stream",
     "text": [
      "28\n"
     ]
    }
   ],
   "source": [
    "# Problem: sum all of the numbers in a given list\n",
    "L = [2,3,5,7,11] \n",
    "\n",
    "def listSum(L):\n",
    "    # Base Case: the list is empty, so the sum is 0\n",
    "    if (len(L) == 0):\n",
    "        return 0\n",
    "    else:\n",
    "        # Recursive Case: assume we already know the sum of the entire list\n",
    "        # after the first element. Add that sum to the first element.\n",
    "        return L[0] + listSum(L[1:])\n",
    "        #return 2 + 3 + 5 + 7 + 11 + 0 \n",
    "\n",
    "print(listSum([2,3,5,7,11])) # 28"
   ]
  },
  {
   "cell_type": "code",
   "execution_count": null,
   "id": "8ac75e52-2f53-4618-a137-afcda07c3a8e",
   "metadata": {},
   "outputs": [],
   "source": [
    "# Problem: sum all of the numbers from lo to hi, inclusive\n",
    "def rangeSum(lo : int, hi : int):\n",
    "    if (lo > hi):\n",
    "        return 0\n",
    "    else:\n",
    "        # 10 + 11 + 12 + 13 + 14 + 15 + 0\n",
    "        return lo + rangeSum(lo+1, hi)\n",
    "\n",
    "print(rangeSum(10,15)) # 75\n",
    "\n"
   ]
  },
  {
   "cell_type": "code",
   "execution_count": 8,
   "id": "a89359e0-324b-4cdf-93e8-486431c5badd",
   "metadata": {},
   "outputs": [
    {
     "name": "stdout",
     "output_type": "stream",
     "text": [
      "64\n"
     ]
    }
   ],
   "source": [
    "# Problem: raise the number base to the given exponent\n",
    "\n",
    "#power(2,5)\n",
    "def power(base : int, expt : int):\n",
    "    # assume expt is non-negative integer\n",
    "    if (expt == 0):\n",
    "        return 1\n",
    "    else:\n",
    "        # 2 * 2 * 2 * 2 * power ( 2, 1)\n",
    "        return base * power(base, expt-1)\n",
    "\n",
    "#out_1 -> 2 * power(2, 4) 2\n",
    "#out_2 -> 2 * power(2, 4-1) 2\n",
    "#out_3 -> 2 * power(2, 3-1) 2\n",
    "#out_4 -> 2 * power(2, 2 -1) 2\n",
    "#out_5 -> 2 * power(2, 1 -1 = 0) 2 * 1\n",
    "\n",
    "\n",
    "\n",
    "\n",
    "\n",
    "\n",
    "print(power(2, 6)) # 32"
   ]
  },
  {
   "cell_type": "code",
   "execution_count": 11,
   "id": "8340dd83-65c0-4d49-9c32-919ead5e0b0a",
   "metadata": {},
   "outputs": [
    {
     "data": {
      "text/plain": [
       "0.03125"
      ]
     },
     "execution_count": 11,
     "metadata": {},
     "output_type": "execute_result"
    }
   ],
   "source": [
    "1/32"
   ]
  },
  {
   "cell_type": "code",
   "execution_count": null,
   "id": "ecc6c6c5-d746-455e-af34-41a2c995c3a6",
   "metadata": {},
   "outputs": [],
   "source": [
    "def power(base, expt):\n",
    "    # This version allows for negative exponents\n",
    "    # It still assumes that expt is an integer, however.\n",
    "    if (expt == 0):\n",
    "        # \n",
    "        return 1\n",
    "    elif (expt < 0): # new recursive case!\n",
    "        # 1.0 / 32\n",
    "        return 1.0 / power(base, abs(expt))\n",
    "    else:\n",
    "        # \n",
    "        return base * power(base, expt-1)\n",
    "\n",
    "#power(2, -5)\n",
    "\n",
    "\n",
    "\n",
    "\n",
    "\n",
    "\n",
    "print(power(2,5)) # 32\n",
    "print(power(2,-5)) # 1/32 = 0.03125"
   ]
  },
  {
   "cell_type": "code",
   "execution_count": 12,
   "id": "e0ae5c4e-fe21-48c9-a383-0107bcadc7fc",
   "metadata": {},
   "outputs": [
    {
     "name": "stdout",
     "output_type": "stream",
     "text": [
      "[1, 3, 2, 4, 5, 6]\n"
     ]
    }
   ],
   "source": [
    "def interleave(list1 : list, list2 : list):\n",
    "    # Allow for different-length lists\n",
    "    if (len(list1) == 0):\n",
    "        return list2\n",
    "    elif (len(list2) == 0): # new base case!\n",
    "        #\n",
    "        return list1\n",
    "    else:\n",
    "        # [1, 3] + [2, 4] + [5, 6]\n",
    "        return [list1[0] , list2[0]] + interleave(list1[1:], list2[1:])\n",
    "\n",
    "#list1 = []\n",
    "#list2 = [5,6]\n",
    "\n",
    "print(interleave([1,2],[3,4,5,6])) # [1,3,2,4,5,6]"
   ]
  },
  {
   "cell_type": "code",
   "execution_count": 14,
   "id": "9ccc52ab-559f-4509-aee0-c771e7f8e55f",
   "metadata": {},
   "outputs": [
    {
     "name": "stdout",
     "output_type": "stream",
     "text": [
      "Maximum recursion reachedMaximum recursion reached\n"
     ]
    },
    {
     "ename": "TypeError",
     "evalue": "unsupported operand type(s) for +: 'int' and 'NoneType'",
     "output_type": "error",
     "traceback": [
      "\u001b[0;31m---------------------------------------------------------------------------\u001b[0m",
      "\u001b[0;31mTypeError\u001b[0m                                 Traceback (most recent call last)",
      "Cell \u001b[0;32mIn[14], line 11\u001b[0m\n\u001b[1;32m      8\u001b[0m         \u001b[38;5;28mprint\u001b[39m(\u001b[38;5;124m'\u001b[39m\u001b[38;5;124mMaximum recursion reached\u001b[39m\u001b[38;5;124m'\u001b[39m)\n\u001b[1;32m     10\u001b[0m \u001b[38;5;66;03m#print(sumToN(3))  # 6 (works!)\u001b[39;00m\n\u001b[0;32m---> 11\u001b[0m \u001b[38;5;28mprint\u001b[39m(sumToN(\u001b[38;5;241m-\u001b[39m\u001b[38;5;241m3\u001b[39m))\n",
      "Cell \u001b[0;32mIn[14], line 6\u001b[0m, in \u001b[0;36msumToN\u001b[0;34m(n)\u001b[0m\n\u001b[1;32m      4\u001b[0m         \u001b[38;5;28;01mreturn\u001b[39;00m \u001b[38;5;241m0\u001b[39m\n\u001b[1;32m      5\u001b[0m     \u001b[38;5;28;01melse\u001b[39;00m:\n\u001b[0;32m----> 6\u001b[0m         \u001b[38;5;28;01mreturn\u001b[39;00m n \u001b[38;5;241m+\u001b[39m sumToN(n\u001b[38;5;241m-\u001b[39m\u001b[38;5;241m1\u001b[39m)\n\u001b[1;32m      7\u001b[0m \u001b[38;5;28;01mexcept\u001b[39;00m \u001b[38;5;167;01mRecursionError\u001b[39;00m:\n\u001b[1;32m      8\u001b[0m     \u001b[38;5;28mprint\u001b[39m(\u001b[38;5;124m'\u001b[39m\u001b[38;5;124mMaximum recursion reached\u001b[39m\u001b[38;5;124m'\u001b[39m)\n",
      "Cell \u001b[0;32mIn[14], line 6\u001b[0m, in \u001b[0;36msumToN\u001b[0;34m(n)\u001b[0m\n\u001b[1;32m      4\u001b[0m         \u001b[38;5;28;01mreturn\u001b[39;00m \u001b[38;5;241m0\u001b[39m\n\u001b[1;32m      5\u001b[0m     \u001b[38;5;28;01melse\u001b[39;00m:\n\u001b[0;32m----> 6\u001b[0m         \u001b[38;5;28;01mreturn\u001b[39;00m n \u001b[38;5;241m+\u001b[39m sumToN(n\u001b[38;5;241m-\u001b[39m\u001b[38;5;241m1\u001b[39m)\n\u001b[1;32m      7\u001b[0m \u001b[38;5;28;01mexcept\u001b[39;00m \u001b[38;5;167;01mRecursionError\u001b[39;00m:\n\u001b[1;32m      8\u001b[0m     \u001b[38;5;28mprint\u001b[39m(\u001b[38;5;124m'\u001b[39m\u001b[38;5;124mMaximum recursion reached\u001b[39m\u001b[38;5;124m'\u001b[39m)\n",
      "    \u001b[0;31m[... skipping similar frames: sumToN at line 6 (2966 times)]\u001b[0m\n",
      "Cell \u001b[0;32mIn[14], line 6\u001b[0m, in \u001b[0;36msumToN\u001b[0;34m(n)\u001b[0m\n\u001b[1;32m      4\u001b[0m         \u001b[38;5;28;01mreturn\u001b[39;00m \u001b[38;5;241m0\u001b[39m\n\u001b[1;32m      5\u001b[0m     \u001b[38;5;28;01melse\u001b[39;00m:\n\u001b[0;32m----> 6\u001b[0m         \u001b[38;5;28;01mreturn\u001b[39;00m n \u001b[38;5;241m+\u001b[39m sumToN(n\u001b[38;5;241m-\u001b[39m\u001b[38;5;241m1\u001b[39m)\n\u001b[1;32m      7\u001b[0m \u001b[38;5;28;01mexcept\u001b[39;00m \u001b[38;5;167;01mRecursionError\u001b[39;00m:\n\u001b[1;32m      8\u001b[0m     \u001b[38;5;28mprint\u001b[39m(\u001b[38;5;124m'\u001b[39m\u001b[38;5;124mMaximum recursion reached\u001b[39m\u001b[38;5;124m'\u001b[39m)\n",
      "\u001b[0;31mTypeError\u001b[0m: unsupported operand type(s) for +: 'int' and 'NoneType'"
     ]
    }
   ],
   "source": [
    "def sumToN(n):\n",
    "    try:\n",
    "        if n == 0:\n",
    "            return 0\n",
    "        else:\n",
    "            return n + sumToN(n-1)\n",
    "    except RecursionError:\n",
    "        print('Maximum recursion reached')\n",
    "\n",
    "#print(sumToN(3))  # 6 (works!)\n",
    "print(sumToN(-3)) # RecursionError: maximum recursion depth exceeded..."
   ]
  },
  {
   "cell_type": "code",
   "execution_count": 17,
   "id": "0a78d0a5-46ac-42f8-913f-ec3a6499e1e5",
   "metadata": {},
   "outputs": [
    {
     "data": {
      "text/plain": [
       "'Hello Hello '"
      ]
     },
     "execution_count": 17,
     "metadata": {},
     "output_type": "execute_result"
    }
   ],
   "source": [
    "'Hello ' * 2"
   ]
  },
  {
   "cell_type": "code",
   "execution_count": 23,
   "id": "fb70f328-e3b0-4e76-a447-0a6f858310d9",
   "metadata": {},
   "outputs": [
    {
     "name": "stdout",
     "output_type": "stream",
     "text": [
      "rangeSum(10, 30)\n",
      "---rangeSum(11, 30)\n",
      "------rangeSum(12, 30)\n",
      "---------rangeSum(13, 30)\n",
      "------------rangeSum(14, 30)\n",
      "---------------rangeSum(15, 30)\n",
      "------------------rangeSum(16, 30)\n",
      "---------------------rangeSum(17, 30)\n",
      "------------------------rangeSum(18, 30)\n",
      "---------------------------rangeSum(19, 30)\n",
      "------------------------------rangeSum(20, 30)\n"
     ]
    },
    {
     "name": "stdin",
     "output_type": "stream",
     "text": [
      "Pause (press enter to continue) \n"
     ]
    },
    {
     "name": "stdout",
     "output_type": "stream",
     "text": [
      "---------------------------------rangeSum(21, 30)\n",
      "------------------------------------rangeSum(22, 30)\n",
      "---------------------------------------rangeSum(23, 30)\n",
      "------------------------------------------rangeSum(24, 30)\n",
      "---------------------------------------------rangeSum(25, 30)\n",
      "------------------------------------------------rangeSum(26, 30)\n",
      "---------------------------------------------------rangeSum(27, 30)\n",
      "------------------------------------------------------rangeSum(28, 30)\n",
      "---------------------------------------------------------rangeSum(29, 30)\n",
      "------------------------------------------------------------rangeSum(30, 30)\n",
      "---------------------------------------------------------------rangeSum(31, 30)\n",
      "+++++++++++++++++++++++++++++++++++++++++++++++++++++++++++++++depth 21 --> 0\n",
      "++++++++++++++++++++++++++++++++++++++++++++++++++++++++++++depth 20 --> 30\n",
      "+++++++++++++++++++++++++++++++++++++++++++++++++++++++++depth 19 --> 59\n",
      "++++++++++++++++++++++++++++++++++++++++++++++++++++++depth 18 --> 87\n",
      "+++++++++++++++++++++++++++++++++++++++++++++++++++depth 17 --> 114\n",
      "++++++++++++++++++++++++++++++++++++++++++++++++depth 16 --> 140\n",
      "+++++++++++++++++++++++++++++++++++++++++++++depth 15 --> 165\n",
      "++++++++++++++++++++++++++++++++++++++++++depth 14 --> 189\n",
      "+++++++++++++++++++++++++++++++++++++++depth 13 --> 212\n",
      "++++++++++++++++++++++++++++++++++++depth 12 --> 234\n",
      "+++++++++++++++++++++++++++++++++depth 11 --> 255\n",
      "++++++++++++++++++++++++++++++depth 10 --> 275\n",
      "+++++++++++++++++++++++++++depth 9 --> 294\n",
      "++++++++++++++++++++++++depth 8 --> 312\n",
      "+++++++++++++++++++++depth 7 --> 329\n",
      "++++++++++++++++++depth 6 --> 345\n",
      "+++++++++++++++depth 5 --> 360\n",
      "++++++++++++depth 4 --> 374\n",
      "+++++++++depth 3 --> 387\n",
      "++++++depth 2 --> 399\n",
      "+++depth 1 --> 410\n",
      "depth 0 --> 420\n",
      "420\n"
     ]
    }
   ],
   "source": [
    "def rangeSum(lo : int, hi : int, depth : int = 0):\n",
    "    print(\"---\" * depth + \"rangeSum(\" + str(lo) + \", \" + str(hi) + \")\")\n",
    "    if depth == 10:\n",
    "        input(\"Pause (press enter to continue)\")\n",
    "    if (lo > hi):\n",
    "        result = 0\n",
    "    else:\n",
    "        #result = 10 + 11 + 12 + ..... + 0 \n",
    "        result = lo + rangeSum(lo + 1, hi, depth + 1)\n",
    "\n",
    "\n",
    "    print(\"+++\" * depth + \"depth\", str(depth),\"-->\", result)\n",
    "    return result\n",
    "\n",
    "print(rangeSum(lo=10, hi=30))"
   ]
  },
  {
   "cell_type": "code",
   "execution_count": 24,
   "id": "89b5bf98-fd2c-4ce4-a09d-d9198f545557",
   "metadata": {},
   "outputs": [
    {
     "name": "stdout",
     "output_type": "stream",
     "text": [
      "75\n"
     ]
    }
   ],
   "source": [
    "# This time with a wrapper function that tracks the sum so far.\n",
    "def rangeSum(lo, hi):\n",
    "    return rangeSumHelper(lo, hi, 0)\n",
    "\n",
    "def rangeSumHelper(lo : int, hi : int, sumSoFar : int):\n",
    "    if (lo > hi):\n",
    "        return sumSoFar\n",
    "    else:\n",
    "        #rangeSumHelper(10+1+1+1+1+1+1, 15, 10+0+11+12+13+14+15)\n",
    "        return rangeSumHelper(lo+1, hi, lo+sumSoFar)\n",
    "\n",
    "print(rangeSum(10,15)) # 75 "
   ]
  },
  {
   "cell_type": "code",
   "execution_count": 25,
   "id": "9c5991b2-b26f-42ce-bb9a-26360096f764",
   "metadata": {},
   "outputs": [
    {
     "name": "stdout",
     "output_type": "stream",
     "text": [
      "75\n"
     ]
    }
   ],
   "source": [
    "# Now with a default value instead of a wrapper function\n",
    "def rangeSum(lo, hi, sumSoFar=0):\n",
    "    if (lo > hi):\n",
    "        return sumSoFar\n",
    "    else:\n",
    "        return rangeSum(lo+1, hi, lo+sumSoFar)\n",
    "\n",
    "print(rangeSum(10,15)) # 75"
   ]
  },
  {
   "cell_type": "code",
   "execution_count": 26,
   "id": "2219c01b-d8f9-4b8d-bc7e-7b60f66d15d5",
   "metadata": {},
   "outputs": [
    {
     "name": "stdout",
     "output_type": "stream",
     "text": [
      "[4, 3, 2]\n",
      "[7, 6, 5]\n"
     ]
    }
   ],
   "source": [
    "# This is a typical, clean way without wrapper functions or default values:\n",
    "def reverseList(L : list):\n",
    "    if (L == [ ]): # len(L) ==0\n",
    "        return [ ]\n",
    "    else:\n",
    "        # [] + [7] + [6] + [5] change to [2] + [3] + [4] + []\n",
    "        return reverseList(L[1:]) + [L[0]]\n",
    "\n",
    "print(reverseList([2,3,4])) # [4, 3, 2] (it works!)\n",
    "print(reverseList([5,6,7])) # [7, 6, 5] (yup!)"
   ]
  },
  {
   "cell_type": "code",
   "execution_count": 35,
   "id": "74bb6d9b-887a-48d3-b768-869ae988215f",
   "metadata": {},
   "outputs": [
    {
     "ename": "TypeError",
     "evalue": "fun() got an unexpected keyword argument 'var_2'",
     "output_type": "error",
     "traceback": [
      "\u001b[0;31m---------------------------------------------------------------------------\u001b[0m",
      "\u001b[0;31mTypeError\u001b[0m                                 Traceback (most recent call last)",
      "Cell \u001b[0;32mIn[35], line 4\u001b[0m\n\u001b[1;32m      1\u001b[0m \u001b[38;5;28;01mdef\u001b[39;00m \u001b[38;5;21mfun\u001b[39m(var_1):\n\u001b[1;32m      2\u001b[0m     \u001b[38;5;28;01mpass\u001b[39;00m\n\u001b[0;32m----> 4\u001b[0m fun(var_1\u001b[38;5;241m=\u001b[39m\u001b[38;5;241m0\u001b[39m, var_2\u001b[38;5;241m=\u001b[39m\u001b[38;5;241m10\u001b[39m)\n",
      "\u001b[0;31mTypeError\u001b[0m: fun() got an unexpected keyword argument 'var_2'"
     ]
    }
   ],
   "source": [
    "def fun(var_1):\n",
    "    pass\n",
    "\n",
    "fun(var_1=0, var_2=10)"
   ]
  },
  {
   "cell_type": "code",
   "execution_count": null,
   "id": "2bf9fc81-d3bf-443d-9d44-c523c2fdb6ac",
   "metadata": {},
   "outputs": [],
   "source": [
    "def func(var_1, *args, **kwargs):\n",
    "    pass\n",
    "\n",
    "def func(var_1=0, 'Hello', Location='Remera')"
   ]
  },
  {
   "cell_type": "code",
   "execution_count": 32,
   "id": "afe1c1cf-a0af-4f9f-8275-093a91471ea2",
   "metadata": {},
   "outputs": [
    {
     "name": "stdout",
     "output_type": "stream",
     "text": [
      "[]\n",
      "[2]\n",
      "[3, 2]\n",
      "[4, 3, 2]\n",
      "[4, 3, 2]\n",
      "[5, 4, 3, 2]\n",
      "[6, 5, 4, 3, 2]\n",
      "[7, 6, 5, 4, 3, 2]\n"
     ]
    }
   ],
   "source": [
    "# Warning: This is BROKEN because it uses a mutable default value\n",
    "def reverseList(L : list, reversedSoFar : list = []):\n",
    "    #L = [4] \n",
    "    if (L == [ ]):\n",
    "        return reversedSoFar\n",
    "    else:\n",
    "        print(reversedSoFar)\n",
    "        reversedSoFar.insert(0, L[0]) #-> reversedSoFar[4, 3, 2]\n",
    "        # reverseList([], [4, 3,2])\n",
    "        return reverseList(L[1:], reversedSoFar)\n",
    "\n",
    "print(reverseList([2,3,4])) # [4, 3, 2] (it works the first time!)\n",
    "print(reverseList([5,6,7])) # [7, 6, 5, 4, 3, 2] <-- OH NO!!!"
   ]
  },
  {
   "cell_type": "code",
   "execution_count": null,
   "id": "57ac9028-9b0b-4cca-a08c-e58187a581d9",
   "metadata": {},
   "outputs": [],
   "source": [
    "# Fix #1: just do not mutate it!\n",
    "def reverseList(L, reversedSoFar=[]):\n",
    "    if (L == [ ]):\n",
    "        return reversedSoFar\n",
    "    else:\n",
    "        # reversedSoFar.insert(0, L[0])\n",
    "        reversedSoFar = [L[0]] + reversedSoFar # this is nondestructive!\n",
    "        return reverseList(L[1:], reversedSoFar)\n",
    "\n",
    "print(reverseList([2,3,4])) # [4, 3, 2] (it works!)\n",
    "print(reverseList([5,6,7])) # [7, 6, 5] (and it works again!)"
   ]
  },
  {
   "cell_type": "code",
   "execution_count": null,
   "id": "eba88cef-7a5c-4e7c-903b-887e7ffc9248",
   "metadata": {},
   "outputs": [],
   "source": [
    "# Fix #2: use None instead of [] and create a new list to start\n",
    "def reverseList(L, reversedSoFar=None):\n",
    "    if (reversedSoFar == None):\n",
    "        reversedSoFar = [ ] # this creates a new list each time!\n",
    "    if (L == [ ]):\n",
    "        return reversedSoFar\n",
    "    else:\n",
    "        reversedSoFar.insert(0, L[0])\n",
    "        return reverseList(L[1:], reversedSoFar)\n",
    "\n",
    "print(reverseList([2,3,4])) # [4, 3, 2] (it works!)\n",
    "print(reverseList([5,6,7])) # [7, 6, 5] (and it works again!)"
   ]
  },
  {
   "cell_type": "code",
   "execution_count": null,
   "id": "fe2ebe3d-0cb6-4fb6-8c5d-6628cb3afba6",
   "metadata": {},
   "outputs": [],
   "source": [
    "# Fix #3: use a wrapper function instead of a default value\n",
    "def reverseList(L):\n",
    "    return reverseListHelper(L, [ ])\n",
    "\n",
    "def reverseListHelper(L, reversedSoFar):\n",
    "    if (L == [ ]):\n",
    "        return reversedSoFar\n",
    "    else:\n",
    "        reversedSoFar.insert(0, L[0])\n",
    "        return reverseListHelper(L[1:], reversedSoFar)\n",
    "\n",
    "print(reverseList([2,3,4])) # [4, 3, 2] (it works!)\n",
    "print(reverseList([5,6,7])) # [7, 6, 5] (and this also works again!)"
   ]
  },
  {
   "cell_type": "code",
   "execution_count": 4,
   "id": "7c6e9f35-72a3-40a7-94e7-e46765799d8e",
   "metadata": {},
   "outputs": [
    {
     "data": {
      "text/plain": [
       "1.5"
      ]
     },
     "execution_count": 4,
     "metadata": {},
     "output_type": "execute_result"
    }
   ],
   "source": [
    "3/2"
   ]
  },
  {
   "cell_type": "code",
   "execution_count": 7,
   "id": "e7d0bb04-761e-488f-88c2-596d4c971477",
   "metadata": {},
   "outputs": [
    {
     "name": "stdout",
     "output_type": "stream",
     "text": [
      "Len List 5 List Sum: [2, 3] + List Sum: [5, 7, 11]\n",
      "Len List 2 List Sum: [2] + List Sum: [3]\n",
      "Len List 3 List Sum: [5] + List Sum: [7, 11]\n",
      "Len List 2 List Sum: [7] + List Sum: [11]\n",
      "28\n"
     ]
    }
   ],
   "source": [
    "# Technically we don't need multiple recursive calls here, but it's a nice simple example.\n",
    "# Sum the list by splitting it in half, then summing each half.\n",
    "#L = [2,3,5,7,11]\n",
    "\n",
    "def listSum(L : list):\n",
    "    if (len(L) == 0):\n",
    "        return 0\n",
    "    elif (len(L) == 1):\n",
    "        return L[0] \n",
    "    else:\n",
    "        mid = len(L) // 2 # Mid -> 2 , \" 1 , 1 \"\n",
    "        print('Len List',len(L),'List Sum:', L[:mid], '+', 'List Sum:', L[mid:])\n",
    "        return listSum(L[:mid]) + listSum(L[mid:])\n",
    "\n",
    "print(listSum([2,3,5,7,11])) # 28\n",
    "\n",
    "[2] + [3] + [5] + [7] + [11]"
   ]
  },
  {
   "cell_type": "code",
   "execution_count": null,
   "id": "af88d269-5e10-4b7d-b321-a84fce4712c5",
   "metadata": {},
   "outputs": [],
   "source": [
    "https://recursion.vercel.app/"
   ]
  },
  {
   "cell_type": "code",
   "execution_count": null,
   "id": "9423bdef-8fef-4e04-9a42-f2e6db586bd7",
   "metadata": {},
   "outputs": [],
   "source": [
    "# In the Fibonacci sequence, each element is the sum of the two\n",
    "# elements before it. This translates nicely into recursive code!\n",
    "def fib(n : int):\n",
    "    if (n < 2):\n",
    "        return 1 # note: fib(0) and fib(1) are both 1\n",
    "    else:\n",
    "        return fib(n-1) + fib(n-2)\n",
    "\n",
    "print([fib(n) for n in range(15)])\n",
    "\n",
    "#range = [0,1,2,3,4,5...14]\n",
    "items = [1, 1, 2, fib(1) + fib(0) + 1]\n",
    "for n in range(15):\n",
    "    items.insert(fib(n))\n",
    "print(items)"
   ]
  },
  {
   "cell_type": "code",
   "execution_count": null,
   "id": "e5a7700f-5e57-4f19-8f83-926ce67869f1",
   "metadata": {},
   "outputs": [],
   "source": [
    "# This is the plan to solve Towers of Hanoi (based on magic!)\n",
    "magically move(n-1, source, temp, target)\n",
    "          move(  1, source, target, temp)\n",
    "magically move(n-1, temp, target, source)"
   ]
  },
  {
   "cell_type": "code",
   "execution_count": 8,
   "id": "3edfaee7-4938-49b3-920d-8b9b3ff04a7b",
   "metadata": {},
   "outputs": [
    {
     "data": {
      "text/plain": [
       "81"
      ]
     },
     "execution_count": 8,
     "metadata": {},
     "output_type": "execute_result"
    }
   ],
   "source": [
    "27 * 3"
   ]
  },
  {
   "cell_type": "code",
   "execution_count": null,
   "id": "0453bc00-cb6f-4f50-a45e-46de1ff02b3b",
   "metadata": {},
   "outputs": [],
   "source": [
    "def move(n : int, source : int, target : int, temp : int):\n",
    "    move(n-1, source, temp, target) #-> move(1, 0, 1, 2) -> move(0, 0, 1, 2) , move(1, 0 , 1,2), move(0 , 0, 1, 2)\n",
    "    move(  1, source, target, temp) #-> move(1, 0, 1, 2) -> move(0, 0, 1, 2) , move(1, 0 , 1,2), move(0 , 0, 1, 2)\n",
    "    move(n-1, temp, target, source) #-> move(1, 0, 1, 2) -> move(0, 0, 1, 2) , move(1, 0 , 1,2), move(0 , 0, 1, 2)\n",
    "\n",
    "move(2, 0, 1, 2) # Does not work -- infinite recursion"
   ]
  },
  {
   "cell_type": "code",
   "execution_count": null,
   "id": "241814b4-9336-4b31-836f-8f9a8ef4455a",
   "metadata": {},
   "outputs": [],
   "source": [
    "def move(n, source, target, temp):\n",
    "    if (n == 1):\n",
    "        print((source, target), end=\"\")\n",
    "    else:\n",
    "        move(n-1, source, temp, target)\n",
    "        move(  1, source, target, temp)\n",
    "        move(n-1, temp, target, source)\n",
    "\n",
    "move(2, 0, 1, 2)"
   ]
  },
  {
   "cell_type": "code",
   "execution_count": null,
   "id": "37227876-e99a-4341-b995-79c177fd5d67",
   "metadata": {},
   "outputs": [],
   "source": [
    "def move(n, source, target, temp):\n",
    "    if (n == 1):\n",
    "        print((source, target), end=\"\")\n",
    "    else:\n",
    "        move(n-1, source, temp, target)\n",
    "        move(  1, source, target, temp)\n",
    "        move(n-1, temp, target, source)\n",
    "\n",
    "def hanoi(n):\n",
    "    print(\"Solving Towers of Hanoi with n =\", n)\n",
    "    move(n, 0, 1, 2)\n",
    "    print()\n",
    "\n",
    "hanoi(4)"
   ]
  },
  {
   "cell_type": "code",
   "execution_count": null,
   "id": "e2b09a47-ca4a-4a0b-8711-98490b410f80",
   "metadata": {},
   "outputs": [],
   "source": [
    "def move(n, source, target, temp, depth=0):\n",
    "    print((\" \" * 3 * depth), \"move\", n,\n",
    "          \"from\", source, \"to\", target, \"via\", temp)\n",
    "    if (n == 1):\n",
    "        print((\" \" * 3 * depth), (source, target))\n",
    "    else:\n",
    "        move(n-1, source, temp, target, depth+1)\n",
    "        move(  1, source, target, temp, depth+1)\n",
    "        move(n-1, temp, target, source, depth+1)\n",
    "\n",
    "def hanoi(n):\n",
    "    print(\"Solving Towers of Hanoi with n =\", n)\n",
    "    move(n, 0, 1, 2)\n",
    "    print()\n",
    "hanoi(4)"
   ]
  },
  {
   "cell_type": "code",
   "execution_count": null,
   "id": "bc6f2ad4-d5e9-49a1-9c63-804e15c33898",
   "metadata": {},
   "outputs": [],
   "source": [
    "def iterativeHanoi(n):\n",
    "    def f(k): return (k%3) if (n%2==0) else (-k%3)\n",
    "    return [(f(move & (move-1)),\n",
    "             f((move|(move-1))+1)) for move in range(1,1 << n)]\n",
    "\n",
    "def recursiveHanoi(n, source=0, target=1, temp=2):\n",
    "    if (n == 1):\n",
    "        return [(source, target)]\n",
    "    else:\n",
    "        return (recursiveHanoi(n-1, source, temp, target) +\n",
    "                recursiveHanoi(  1, source, target, temp) +\n",
    "                recursiveHanoi(n-1, temp, target, source))\n",
    "\n",
    "def compareIterativeAndRecursiveHanoi():\n",
    "    for n in range(1,10):\n",
    "        assert(iterativeHanoi(n) == recursiveHanoi(n))\n",
    "    print(\"iterative and recursive solutions match exactly in all tests!\")\n",
    "\n",
    "compareIterativeAndRecursiveHanoi()"
   ]
  },
  {
   "cell_type": "code",
   "execution_count": null,
   "id": "2b16def4-64a1-40cd-99d3-574af08a9642",
   "metadata": {},
   "outputs": [],
   "source": [
    "def merge(A, B):\n",
    "    # beautiful, but impractical for large N\n",
    "    if ((len(A) == 0) or (len(B) == 0)):\n",
    "        return A+B\n",
    "    else:\n",
    "        if (A[0] < B[0]):\n",
    "            return [A[0]] + merge(A[1:], B)\n",
    "        else:\n",
    "            return [B[0]] + merge(A, B[1:])\n",
    "\n",
    "def merge(A, B):\n",
    "    # iterative (ugh) and destructive (double ugh), but practical...\n",
    "    C = [ ]\n",
    "    i = j = 0\n",
    "    while ((i < len(A)) or (j < len(B))):\n",
    "        if ((j == len(B)) or ((i < len(A)) and (A[i] <= B[j]))):\n",
    "            C.append(A[i])\n",
    "            i += 1\n",
    "        else:\n",
    "            C.append(B[j])\n",
    "            j += 1\n",
    "    return C\n",
    "\n",
    "def mergeSort(L):\n",
    "    if (len(L) < 2):\n",
    "        return L\n",
    "    else:\n",
    "        # No need for complicated loops- just merge sort each half, then merge!\n",
    "        mid = len(L)//2\n",
    "        left = mergeSort(L[:mid])\n",
    "        right = mergeSort(L[mid:])\n",
    "        return merge(left, right)\n",
    "\n",
    "print(mergeSort([1,5,3,4,2,0]))"
   ]
  },
  {
   "cell_type": "code",
   "execution_count": null,
   "id": "7cbd2e2d-2dcd-4d71-9412-0229410fd2d4",
   "metadata": {},
   "outputs": [],
   "source": [
    "# In Quick Sort, select an element to pivot around, organize all elements to\n",
    "# the left and right of the pivot, then Quick Sort each side.\n",
    "def quickSort(L):\n",
    "    if (len(L) < 2):\n",
    "        return L\n",
    "    else:\n",
    "        first = L[0]  # pivot\n",
    "        rest = L[1:]\n",
    "        lo = [x for x in rest if x < first]\n",
    "        hi = [x for x in rest if x >= first]\n",
    "        return quickSort(lo) + [first] + quickSort(hi)\n",
    "\n",
    "print(quickSort([1,5,3,4,2,0]))"
   ]
  },
  {
   "cell_type": "code",
   "execution_count": null,
   "id": "afd4701b-95e4-475a-8fde-3435d7437b61",
   "metadata": {},
   "outputs": [],
   "source": [
    "def f(L):\n",
    "    if L == [ ]:\n",
    "        return 0\n",
    "    else:\n",
    "        if (f(L[1:]) > 10):\n",
    "            return 1 + f(L[1:])\n",
    "        else:\n",
    "            return 2 + f(L[1:])\n",
    "\n",
    "print(f(list(range(10)))) # prints 16\n",
    "\n",
    "# However... uncomment the next line and run it:\n",
    "\n",
    "# print(f(list(range(30)))) # super, super slow! <-- This shows the problem"
   ]
  },
  {
   "cell_type": "code",
   "execution_count": null,
   "id": "f87c6c53-223e-4e69-9a07-1ca9894a724a",
   "metadata": {},
   "outputs": [],
   "source": []
  },
  {
   "cell_type": "code",
   "execution_count": null,
   "id": "e0223040-2053-48ce-b734-32bc21f7aa48",
   "metadata": {},
   "outputs": [],
   "source": [
    "def f(L):\n",
    "    if L == [ ]:\n",
    "        return 0\n",
    "    else:\n",
    "        rest = f(L[1:])     # <-- this is the fix (recurse only once)\n",
    "        if (rest > 10):\n",
    "            return 1 + rest\n",
    "        else:\n",
    "            return 2 + rest\n",
    "\n",
    "print(f(list(range(10))))  # 16 (whew)\n",
    "print(f(list(range(100)))) # 106, zippy quick!!!  Problem solved!"
   ]
  },
  {
   "cell_type": "code",
   "execution_count": null,
   "id": "a36fd6e7-fe89-4d6a-bd48-9fe925300fac",
   "metadata": {},
   "outputs": [],
   "source": [
    "# Problem: given a list a, return a list with all the possible subsets of a.\n",
    "\n",
    "def powerset(a):\n",
    "    # Base case: the only possible subset of an empty list is the empty list.\n",
    "    if (len(a) == 0):\n",
    "        return [ [] ]\n",
    "    else:\n",
    "        # Recursive Case: remove the first element, then find all subsets of the\n",
    "        # remaining list. Then for each subset, use two versions of that subset:\n",
    "        # one without the first element, and another one with it.\n",
    "\n",
    "        partialSubsets = powerset(a[1:])\n",
    "        allSubsets = [ ]\n",
    "        for subset in partialSubsets:\n",
    "            allSubsets.append(subset)\n",
    "            allSubsets.append([a[0]] + subset)\n",
    "        return allSubsets\n",
    "\n",
    "print(powerset([1,2,3]))"
   ]
  },
  {
   "cell_type": "code",
   "execution_count": null,
   "id": "642ce67d-4eab-45e6-be4c-031970b158a5",
   "metadata": {},
   "outputs": [],
   "source": [
    "# Problem: given a list a, find all possible permutations (orderings) of the\n",
    "# elements of a\n",
    "\n",
    "def permutations(a):\n",
    "    # Base Case: the only permutation of an empty list is the empty list\n",
    "    if (len(a) == 0):\n",
    "        return [ [] ]\n",
    "    else:\n",
    "        # Recursive Case: remove the first element, then find all possible\n",
    "        # permutations of the remaining elements. For each permutation,\n",
    "        # insert a into every possible position in that permutation.\n",
    "\n",
    "        partialPermutations = permutations(a[1:])\n",
    "        allPerms = [ ]\n",
    "        for perm in partialPermutations:\n",
    "            for i in range(len(perm) + 1):\n",
    "                allPerms.append(perm[:i] + [ a[0] ] + perm[i:])\n",
    "        return allPerms\n",
    "\n",
    "print(permutations([1,2,3]))"
   ]
  },
  {
   "cell_type": "code",
   "execution_count": null,
   "id": "ae281316-c7e6-4f4c-aadb-9efe87be1b51",
   "metadata": {},
   "outputs": [],
   "source": [
    "# Alternative Approach: choose each element as the starting element of the\n",
    "# permutation, then find all possible permutations of the rest.\n",
    "\n",
    "def permutations(a):\n",
    "    if (len(a) == 0):\n",
    "        return [ [] ]\n",
    "    else:\n",
    "        allPerms = [ ]\n",
    "        for i in range(len(a)):\n",
    "            partialPermutations = permutations(a[:i] + a[i+1:])\n",
    "            for perm in partialPermutations:\n",
    "                allPerms.append([ a[i] ] + perm)\n",
    "        return allPerms\n",
    "\n",
    "print(permutations([1,2,3]))"
   ]
  },
  {
   "cell_type": "code",
   "execution_count": null,
   "id": "89991322-dff9-429b-8e9c-0adfd17fa87f",
   "metadata": {},
   "outputs": [],
   "source": []
  },
  {
   "cell_type": "code",
   "execution_count": null,
   "id": "ee7b072d-01e0-48b1-90b7-2e838e8d473f",
   "metadata": {},
   "outputs": [],
   "source": []
  },
  {
   "cell_type": "code",
   "execution_count": null,
   "id": "1066c9f7-64eb-4b07-bf39-f04101a4c265",
   "metadata": {},
   "outputs": [],
   "source": []
  },
  {
   "cell_type": "code",
   "execution_count": null,
   "id": "841e660a-7a76-49f3-8d29-ec54a1878a61",
   "metadata": {},
   "outputs": [],
   "source": []
  },
  {
   "cell_type": "code",
   "execution_count": null,
   "id": "219cd590-46d7-4e48-8cc4-a4b0b9ec6003",
   "metadata": {},
   "outputs": [],
   "source": []
  },
  {
   "cell_type": "code",
   "execution_count": null,
   "id": "9b335ab2-bfd5-48f7-86c8-d7c459c7942e",
   "metadata": {},
   "outputs": [],
   "source": []
  }
 ],
 "metadata": {
  "kernelspec": {
   "display_name": "Python 3 (ipykernel)",
   "language": "python",
   "name": "python3"
  },
  "language_info": {
   "codemirror_mode": {
    "name": "ipython",
    "version": 3
   },
   "file_extension": ".py",
   "mimetype": "text/x-python",
   "name": "python",
   "nbconvert_exporter": "python",
   "pygments_lexer": "ipython3",
   "version": "3.11.8"
  }
 },
 "nbformat": 4,
 "nbformat_minor": 5
}
