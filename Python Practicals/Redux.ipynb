{
 "cells": [
  {
   "cell_type": "code",
   "execution_count": null,
   "id": "d88f2886-7f73-45f1-acec-7d4f83eaad77",
   "metadata": {},
   "outputs": [],
   "source": [
    "def longestWord(*args):\n",
    "    if (len(args) == 0): \n",
    "        return None\n",
    "    result = args[0] # this\n",
    "    for word in args:\n",
    "        if (len(word) > len(result)):\n",
    "            result = word\n",
    "    return result\n",
    "\n",
    "print(longestWord(\"this\", \"is\", \"really\", \"nice\")) # really\n",
    "\n",
    "mywords = [\"this\", \"is\", \"really\", \"nice\"]\n",
    "\n",
    "print(longestWord(mywords))  # ['this', 'is', 'really', 'nice']\n",
    "print(longestWord(*mywords)) # really"
   ]
  },
  {
   "cell_type": "code",
   "execution_count": 1,
   "id": "8f67a4b7-a8b3-4067-88a0-3780e254170c",
   "metadata": {},
   "outputs": [
    {
     "name": "stdout",
     "output_type": "stream",
     "text": [
      "(2, 3, 'Text', [])\n"
     ]
    }
   ],
   "source": [
    "def fn(*args):\n",
    "    print(args)\n",
    "\n",
    "\n",
    "fn(2, 3, 'Text', [])"
   ]
  },
  {
   "cell_type": "code",
   "execution_count": null,
   "id": "927ba54b-1914-4e26-a368-493939b4fe0c",
   "metadata": {},
   "outputs": [],
   "source": [
    "def f(x, y=10): return (x,y)\n",
    "print(f(5))   # (5, 10)\n",
    "print(f(5,6)) # (5, 6)"
   ]
  },
  {
   "cell_type": "code",
   "execution_count": null,
   "id": "54707aaf-1875-4efa-b6a9-63a9c17aaef9",
   "metadata": {},
   "outputs": [],
   "source": [
    "def f(x, L=[ ]):\n",
    "    L.append(x)\n",
    "    return L\n",
    "\n",
    "print(f(1))\n",
    "print(f(2)) # why is this [1, 2]?"
   ]
  },
  {
   "cell_type": "code",
   "execution_count": null,
   "id": "05543c58-6dc6-481a-92d3-883bdebf79bb",
   "metadata": {},
   "outputs": [],
   "source": [
    "def f(x, L=None):\n",
    "    if (L == None):\n",
    "        L = [ ]\n",
    "    L.append(x)\n",
    "    return L\n",
    "\n",
    "print(f(1))\n",
    "print(f(2)) # [2] (that's better)"
   ]
  },
  {
   "cell_type": "code",
   "execution_count": 5,
   "id": "7c965777-54a3-413d-a9e9-c052c913d1f9",
   "metadata": {},
   "outputs": [
    {
     "ename": "SyntaxError",
     "evalue": "invalid syntax (2399490948.py, line 5)",
     "output_type": "error",
     "traceback": [
      "\u001b[0;36m  Cell \u001b[0;32mIn[5], line 5\u001b[0;36m\u001b[0m\n\u001b[0;31m    def fn(h=2, lambda b: printf('hello')):\u001b[0m\n\u001b[0m                ^\u001b[0m\n\u001b[0;31mSyntaxError\u001b[0m\u001b[0;31m:\u001b[0m invalid syntax\n"
     ]
    }
   ],
   "source": [
    "def printf(text):\n",
    "    print(text)\n",
    "    return 1\n",
    "\n",
    "def fn(h=2, lambda b : printf('hello')):\n",
    "    pass\n"
   ]
  },
  {
   "cell_type": "code",
   "execution_count": 9,
   "id": "92b0a9f0-ea72-4003-9064-3382ebae26f1",
   "metadata": {},
   "outputs": [],
   "source": [
    "var = lambda x: print('Run This')\n"
   ]
  },
  {
   "cell_type": "code",
   "execution_count": 11,
   "id": "9429dfa9-be82-4257-b446-900e819ff843",
   "metadata": {},
   "outputs": [
    {
     "data": {
      "text/plain": [
       "<function __main__.<lambda>(x)>"
      ]
     },
     "execution_count": 11,
     "metadata": {},
     "output_type": "execute_result"
    }
   ],
   "source": [
    "var"
   ]
  },
  {
   "cell_type": "code",
   "execution_count": 7,
   "id": "99a56a22-9f5b-4ecb-9bd9-712b6f6e25e7",
   "metadata": {},
   "outputs": [
    {
     "ename": "SyntaxError",
     "evalue": "invalid syntax (1156426820.py, line 1)",
     "output_type": "error",
     "traceback": [
      "\u001b[0;36m  Cell \u001b[0;32mIn[7], line 1\u001b[0;36m\u001b[0m\n\u001b[0;31m    def derivative(f, lambda x : (x=2*8)):\u001b[0m\n\u001b[0m                      ^\u001b[0m\n\u001b[0;31mSyntaxError\u001b[0m\u001b[0;31m:\u001b[0m invalid syntax\n"
     ]
    }
   ],
   "source": [
    "def derivative(f, lambda x : (x=2*8)):\n",
    "    h = 10**-8\n",
    "    return (f(x+h) - f(x))/h\n",
    "\n",
    "def f(x): return 4*x + 3\n",
    "print(derivative(f, 2)) # about 4\n",
    "\n",
    "def g(x): return 4*x**2 + 3\n",
    "print(derivative(g, 2)) # about 16 (8*x at x==2)"
   ]
  },
  {
   "cell_type": "code",
   "execution_count": null,
   "id": "afade503-4b0a-4496-b479-418c24a34085",
   "metadata": {},
   "outputs": [],
   "source": [
    "print(derivative(lambda x:3*x**5 + 2, 2)) # about 240, 15*x**4 at x==2\n",
    "\n",
    "myF =  lambda v: 1000**100000000000000\n",
    "\n",
    "\n",
    "print(myF(5)) # 92\n",
    "print(derivative(myF, 5)) # about 10"
   ]
  },
  {
   "cell_type": "code",
   "execution_count": null,
   "id": "24c1a3b6-6da1-409f-a462-d92f492dbe9a",
   "metadata": {},
   "outputs": [],
   "source": []
  },
  {
   "cell_type": "code",
   "execution_count": null,
   "id": "f8eb396b-fc31-4859-98f8-10d3ef689396",
   "metadata": {},
   "outputs": [],
   "source": [
    "def f(x=1, y=2): return (x,y)\n",
    "print(f()) # (1, 2)\n",
    "print(f(3)) # (3, 2)\n",
    "print(f(y=3)) # (1, 3) [here is where we use a keyword arg]\n",
    "\n",
    "def f(x, **kwargs): return (x, kwargs)\n",
    "print(f(1)) # (1, { })\n",
    "print(f(2, y=3, z=4)) # (2, {'z': 4, 'y': 3})"
   ]
  },
  {
   "cell_type": "code",
   "execution_count": null,
   "id": "16083091-0028-4f1c-85d2-c21d4fb96986",
   "metadata": {},
   "outputs": [],
   "source": [
    "def f(L):\n",
    "    def squared(x): return x**2\n",
    "    return [squared(x) for x in L]\n",
    "print(f(range(5)))\n",
    "try:\n",
    "    print(squared(5))\n",
    "except:\n",
    "    print(\"squared is not defined outside f\")"
   ]
  },
  {
   "cell_type": "code",
   "execution_count": null,
   "id": "b47b674e-673f-46cf-8e3b-3d7a0b86b9cd",
   "metadata": {},
   "outputs": [],
   "source": [
    "def f(L):\n",
    "    myMap = dict()\n",
    "    def squared(x):\n",
    "        result = x**2\n",
    "        myMap[x] = result\n",
    "        return result\n",
    "    squaredList = [squared(x) for x in L]\n",
    "    return myMap\n",
    "print(f(range(5)))"
   ]
  },
  {
   "cell_type": "code",
   "execution_count": null,
   "id": "0bc83559-9dff-4a7e-8cdd-8117229dfe0d",
   "metadata": {},
   "outputs": [],
   "source": [
    "def brokenF(L):\n",
    "    lastX = 0\n",
    "    def squared(x):\n",
    "        result = x**2\n",
    "        lastX = x\n",
    "        return result\n",
    "    squaredList = [squared(x) for x in L]\n",
    "    return lastX\n",
    "print(brokenF(range(5)))\n",
    "\n",
    "def fixedF(L):\n",
    "    lastX = 0\n",
    "    def squared(x):\n",
    "        nonlocal lastX\n",
    "        result = x**2\n",
    "        lastX = x\n",
    "        return result\n",
    "    squaredList = [squared(x) for x in L]\n",
    "    return lastX\n",
    "print(fixedF(range(5)))"
   ]
  },
  {
   "cell_type": "code",
   "execution_count": null,
   "id": "a5e3fc15-289c-4d19-926e-95dc399a825e",
   "metadata": {},
   "outputs": [],
   "source": [
    "def derivativeFn(f):\n",
    "    def g(x):\n",
    "        h = 10**-5\n",
    "        return (f(x+h) - f(x))/h\n",
    "    return g\n",
    "\n",
    "def f(x): return 5*x**3 + 10\n",
    "fprime1 = derivativeFn(f)\n",
    "fprime2 = derivativeFn(fprime1)\n",
    "print(f(3))    # 145, 5*x**3 + 10 evaluated at x == 3\n",
    "print(fprime1(3)) # about 135, 15*x**2 evaluated at x == 3\n",
    "print(fprime2(3)) # about 90, 30*x evaluated at x == 3"
   ]
  },
  {
   "cell_type": "code",
   "execution_count": null,
   "id": "22ac476b-fb6c-45ff-a7b9-91049f36ae0d",
   "metadata": {},
   "outputs": [],
   "source": [
    "@derivativeFn\n",
    "def h(x): return 5*x**3 + 10\n",
    "print(h(3)) # 135, matches fprime1 from above."
   ]
  },
  {
   "cell_type": "code",
   "execution_count": 13,
   "id": "a4302b0f-c63f-4a82-be7d-344d9b304cc2",
   "metadata": {},
   "outputs": [
    {
     "ename": "TypeError",
     "evalue": "fn() takes 0 positional arguments but 2 were given",
     "output_type": "error",
     "traceback": [
      "\u001b[0;31m---------------------------------------------------------------------------\u001b[0m",
      "\u001b[0;31mTypeError\u001b[0m                                 Traceback (most recent call last)",
      "Cell \u001b[0;32mIn[13], line 4\u001b[0m\n\u001b[1;32m      1\u001b[0m \u001b[38;5;28;01mdef\u001b[39;00m \u001b[38;5;21mfn\u001b[39m(\u001b[38;5;241m*\u001b[39m\u001b[38;5;241m*\u001b[39mkwargs):\n\u001b[1;32m      2\u001b[0m     \u001b[38;5;28;01mpass\u001b[39;00m\n\u001b[0;32m----> 4\u001b[0m fn(\u001b[38;5;241m1\u001b[39m,\u001b[38;5;241m24\u001b[39m,b\u001b[38;5;241m=\u001b[39m\u001b[38;5;241m5\u001b[39m)\n",
      "\u001b[0;31mTypeError\u001b[0m: fn() takes 0 positional arguments but 2 were given"
     ]
    }
   ],
   "source": [
    "def fn(*vars, **kvars):\n",
    "    pass\n",
    "\n",
    "fn(1,24,b=5)"
   ]
  },
  {
   "cell_type": "code",
   "execution_count": 18,
   "id": "b1a32481-ac83-4487-894c-41295f8b6646",
   "metadata": {},
   "outputs": [
    {
     "name": "stdout",
     "output_type": "stream",
     "text": [
      "This is the decorator\n",
      "Hello\n"
     ]
    },
    {
     "ename": "TypeError",
     "evalue": "'NoneType' object is not callable",
     "output_type": "error",
     "traceback": [
      "\u001b[0;31m---------------------------------------------------------------------------\u001b[0m",
      "\u001b[0;31mTypeError\u001b[0m                                 Traceback (most recent call last)",
      "Cell \u001b[0;32mIn[18], line 9\u001b[0m\n\u001b[1;32m      5\u001b[0m \u001b[38;5;129m@decorator\u001b[39m\n\u001b[1;32m      6\u001b[0m \u001b[38;5;28;01mdef\u001b[39;00m \u001b[38;5;21mprintf\u001b[39m():\n\u001b[1;32m      7\u001b[0m     \u001b[38;5;28mprint\u001b[39m(\u001b[38;5;124m'\u001b[39m\u001b[38;5;124mHello\u001b[39m\u001b[38;5;124m'\u001b[39m)\n\u001b[0;32m----> 9\u001b[0m printf()\n",
      "\u001b[0;31mTypeError\u001b[0m: 'NoneType' object is not callable"
     ]
    }
   ],
   "source": [
    "def decorator(fn):\n",
    "    print('This is the decorator')\n",
    "    return fn()\n",
    "\n",
    "@decorator\n",
    "def printf():\n",
    "    print('Hello')\n",
    "\n",
    "printf()"
   ]
  },
  {
   "cell_type": "code",
   "execution_count": null,
   "id": "ccf7c386-894d-45a0-a46e-de06edde9598",
   "metadata": {},
   "outputs": [],
   "source": []
  }
 ],
 "metadata": {
  "kernelspec": {
   "display_name": "Python 3 (ipykernel)",
   "language": "python",
   "name": "python3"
  },
  "language_info": {
   "codemirror_mode": {
    "name": "ipython",
    "version": 3
   },
   "file_extension": ".py",
   "mimetype": "text/x-python",
   "name": "python",
   "nbconvert_exporter": "python",
   "pygments_lexer": "ipython3",
   "version": "3.11.8"
  }
 },
 "nbformat": 4,
 "nbformat_minor": 5
}
