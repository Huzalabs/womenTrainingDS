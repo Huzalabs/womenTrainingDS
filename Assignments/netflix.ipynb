{
 "cells": [
  {
   "cell_type": "code",
   "execution_count": 1,
   "metadata": {},
   "outputs": [],
   "source": [
    "import pandas as pd"
   ]
  },
  {
   "cell_type": "code",
   "execution_count": 4,
   "metadata": {},
   "outputs": [],
   "source": [
    "df = pd.read_csv('HomeWork 9/netflix_titles.csv', encoding=\"latin1\")"
   ]
  },
  {
   "cell_type": "code",
   "execution_count": 13,
   "metadata": {},
   "outputs": [
    {
     "data": {
      "text/plain": [
       "show_id                                                       s11\n",
       "type                                                      TV Show\n",
       "title                         Vendetta: Truth, Lies and The Mafia\n",
       "director                                                      NaN\n",
       "cast                                                          NaN\n",
       "country                                                       NaN\n",
       "date_added                                     September 24, 2021\n",
       "release_year                                                 2021\n",
       "rating                                                      TV-MA\n",
       "duration                                                 1 Season\n",
       "listed_in       Crime TV Shows, Docuseries, International TV S...\n",
       "description     Sicily boasts a bold \"Anti-Mafia\" coalition. B...\n",
       "Unnamed: 12                                                   NaN\n",
       "Unnamed: 13                                                   NaN\n",
       "Unnamed: 14                                                   NaN\n",
       "Unnamed: 15                                                   NaN\n",
       "Unnamed: 16                                                   NaN\n",
       "Unnamed: 17                                                   NaN\n",
       "Unnamed: 18                                                   NaN\n",
       "Unnamed: 19                                                   NaN\n",
       "Unnamed: 20                                                   NaN\n",
       "Unnamed: 21                                                   NaN\n",
       "Unnamed: 22                                                   NaN\n",
       "Unnamed: 23                                                   NaN\n",
       "Unnamed: 24                                                   NaN\n",
       "Unnamed: 25                                                   NaN\n",
       "Name: 10, dtype: object"
      ]
     },
     "execution_count": 13,
     "metadata": {},
     "output_type": "execute_result"
    }
   ],
   "source": [
    "df.iloc[10]"
   ]
  },
  {
   "cell_type": "code",
   "execution_count": 10,
   "metadata": {},
   "outputs": [
    {
     "data": {
      "text/plain": [
       "array(['TV-MA', 'TV-14', 'TV-Y7', 'TV-PG', 'TV-Y', 'TV-G', 'R', 'NR', nan,\n",
       "       'TV-Y7-FV'], dtype=object)"
      ]
     },
     "execution_count": 10,
     "metadata": {},
     "output_type": "execute_result"
    }
   ],
   "source": [
    "df[df['type'] == 'TV Show']['rating'].unique()"
   ]
  },
  {
   "cell_type": "code",
   "execution_count": null,
   "metadata": {},
   "outputs": [],
   "source": []
  }
 ],
 "metadata": {
  "kernelspec": {
   "display_name": "huza",
   "language": "python",
   "name": "python3"
  },
  "language_info": {
   "codemirror_mode": {
    "name": "ipython",
    "version": 3
   },
   "file_extension": ".py",
   "mimetype": "text/x-python",
   "name": "python",
   "nbconvert_exporter": "python",
   "pygments_lexer": "ipython3",
   "version": "3.11.8"
  }
 },
 "nbformat": 4,
 "nbformat_minor": 2
}
